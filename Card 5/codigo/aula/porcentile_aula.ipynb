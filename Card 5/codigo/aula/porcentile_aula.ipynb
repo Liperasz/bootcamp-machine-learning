{
 "cells": [
  {
   "cell_type": "code",
   "execution_count": null,
   "id": "55934484",
   "metadata": {},
   "outputs": [
    {
     "data": {
      "image/png": "[encoded data removed]",
      "text/plain": [
       "<Figure size 640x480 with 1 Axes>"
      ]
     },
     "metadata": {},
     "output_type": "display_data"
    }
   ],
   "source": [
    "import numpy as np\n",
    "import matplotlib.pyplot as plt\n",
    "\n",
    "# variável com 10000 valores aleatórios com a distrubiição normal tendo a média 0 e desvio padrão 0.5\n",
    "vals = np.random.normal(0, 0.5, 10000)\n",
    "\n",
    "plt.hist(vals, 50)\n",
    "plt.show()"
   ]
  },
  {
   "cell_type": "markdown",
   "id": "6eae9a04",
   "metadata": {},
   "source": [
    "Percentile é a função que retorna o percentil da amostra desses dados, ou seja, o valor abaixo da onde tá a porcentagem desses dados. \n",
    "Exemplo: no primeiro código a seguir, a porcentagem passada é de 50%, ou seja, o valor retornado é basicamente a mediana, 50% dos valores são menores ou iguais a esse valor.\n",
    "No segundo código, é passado 90%, ou seja, 90% dos números são menores ou iguais ao valor retornado."
   ]
  },
  {
   "cell_type": "code",
   "execution_count": null,
   "id": "da84d159",
   "metadata": {},
   "outputs": [
    {
     "data": {
      "text/plain": [
       "np.float64(-0.0020551804130463456)"
      ]
     },
     "execution_count": 2,
     "metadata": {},
     "output_type": "execute_result"
    }
   ],
   "source": [
    "np.percentile(vals, 50) # 50% dos valores estão abaixo de 0.02"
   ]
  },
  {
   "cell_type": "code",
   "execution_count": 3,
   "id": "4d60cedc",
   "metadata": {},
   "outputs": [
    {
     "data": {
      "text/plain": [
       "np.float64(0.6390704038552629)"
      ]
     },
     "execution_count": 3,
     "metadata": {},
     "output_type": "execute_result"
    }
   ],
   "source": [
    "np.percentile(vals, 90)  # 90% dos valores estão abaixo de 0.64"
   ]
  },
  {
   "cell_type": "code",
   "execution_count": null,
   "id": "d17c34c1",
   "metadata": {},
   "outputs": [
    {
     "data": {
      "text/plain": [
       "np.float64(-0.411897958560499)"
      ]
     },
     "execution_count": 4,
     "metadata": {},
     "output_type": "execute_result"
    }
   ],
   "source": [
    "np.percentile(vals, 20) # 20% dos valores estão abaixo de -0.41"
   ]
  },
  {
   "cell_type": "code",
   "execution_count": null,
   "id": "82d3da3b",
   "metadata": {},
   "outputs": [
    {
     "data": {
      "text/plain": [
       "np.float64(2.2379197805577635)"
      ]
     },
     "execution_count": 5,
     "metadata": {},
     "output_type": "execute_result"
    }
   ],
   "source": [
    "np.percentile(vals, 100) # 100% dos valores estão abaixo de 2.23"
   ]
  },
  {
   "cell_type": "code",
   "execution_count": null,
   "id": "4669b610",
   "metadata": {},
   "outputs": [
    {
     "data": {
      "text/plain": [
       "np.float64(-2.0625708435795866)"
      ]
     },
     "execution_count": 8,
     "metadata": {},
     "output_type": "execute_result"
    }
   ],
   "source": [
    "np.percentile(vals, 0) # testei para ver o que apareceria se passasse 0%, aparentemente é o menor valor"
   ]
  },
  {
   "cell_type": "code",
   "execution_count": null,
   "id": "7a33eb15",
   "metadata": {},
   "outputs": [
    {
     "data": {
      "text/plain": [
       "np.float64(2.2379197805577635)"
      ]
     },
     "execution_count": 7,
     "metadata": {},
     "output_type": "execute_result"
    }
   ],
   "source": [
    "vals.max() # verificando se o maior valor é realmente o valor obtido quando passado 100% no percentile."
   ]
  },
  {
   "cell_type": "code",
   "execution_count": null,
   "id": "a9b23ce9",
   "metadata": {},
   "outputs": [
    {
     "data": {
      "text/plain": [
       "np.float64(-2.0625708435795866)"
      ]
     },
     "execution_count": 9,
     "metadata": {},
     "output_type": "execute_result"
    }
   ],
   "source": [
    "vals.min() # verificando se o menor valor é realmente o valor obtido quando passado 0% no percentile."
   ]
  },
  {
   "cell_type": "code",
   "execution_count": null,
   "id": "53556cfe",
   "metadata": {},
   "outputs": [],
   "source": []
  }
 ],
 "metadata": {
  "kernelspec": {
   "display_name": "base",
   "language": "python",
   "name": "python3"
  },
  "language_info": {
   "codemirror_mode": {
    "name": "ipython",
    "version": 3
   },
   "file_extension": ".py",
   "mimetype": "text/x-python",
   "name": "python",
   "nbconvert_exporter": "python",
   "pygments_lexer": "ipython3",
   "version": "3.13.5"
  }
 },
 "nbformat": 4,
 "nbformat_minor": 5
}
