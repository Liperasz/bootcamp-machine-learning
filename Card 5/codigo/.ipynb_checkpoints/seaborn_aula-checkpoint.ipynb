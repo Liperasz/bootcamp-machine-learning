{
 "cells": [
  {
   "cell_type": "markdown",
   "id": "90300040",
   "metadata": {},
   "source": [
    "Using matplot"
   ]
  },
  {
   "cell_type": "code",
   "execution_count": 9,
   "id": "e822623d",
   "metadata": {},
   "outputs": [
    {
     "data": {
      "text/plain": [
       "<Axes: xlabel='# Gears'>"
      ]
     },
     "execution_count": 9,
     "metadata": {},
     "output_type": "execute_result"
    }
   ],
   "source": [
    "%matplotlib inline\n",
    "import pandas as pd\n",
    "\n",
    "df = pd.read_csv('http://media.sundog-soft.com/SelfDriving/FuelEfficiency.csv')\n",
    "\n",
    "gear_counts = df['# Gears'].value_counts()\n",
    "\n",
    "gear_counts.plot(kind='bar')"
   ]
  },
  {
   "cell_type": "markdown",
   "id": "a394ebfc",
   "metadata": {},
   "source": [
    "Using seaborn"
   ]
  },
  {
   "cell_type": "code",
   "execution_count": 2,
   "id": "c126e0b4",
   "metadata": {},
   "outputs": [],
   "source": [
    "import seaborn as sns\n",
    "sns.set()"
   ]
  },
  {
   "cell_type": "code",
   "execution_count": 4,
   "id": "3eeed961",
   "metadata": {},
   "outputs": [
    {
     "data": {
      "text/plain": [
       "<Axes: xlabel='# Gears'>"
      ]
     },
     "execution_count": 4,
     "metadata": {},
     "output_type": "execute_result"
    }
   ],
   "source": [
    "gear_counts.plot(kind='bar')"
   ]
  },
  {
   "cell_type": "code",
   "execution_count": null,
   "id": "9760d4fb",
   "metadata": {},
   "outputs": [],
   "source": []
  }
 ],
 "metadata": {
  "kernelspec": {
   "display_name": "base",
   "language": "python",
   "name": "python3"
  },
  "language_info": {
   "codemirror_mode": {
    "name": "ipython",
    "version": 3
   },
   "file_extension": ".py",
   "mimetype": "text/x-python",
   "name": "python",
   "nbconvert_exporter": "python",
   "pygments_lexer": "ipython3",
   "version": "3.13.5"
  }
 },
 "nbformat": 4,
 "nbformat_minor": 5
}
