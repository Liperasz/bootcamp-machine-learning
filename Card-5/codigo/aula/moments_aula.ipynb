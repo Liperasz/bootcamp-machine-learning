{
 "cells": [
  {
   "cell_type": "code",
   "execution_count": null,
   "id": "9ddd42de",
   "metadata": {},
   "outputs": [
    {
     "data": {
      "image/png": "[encoded data removed]",
      "text/plain": [
       "<Figure size 640x480 with 1 Axes>"
      ]
     },
     "metadata": {},
     "output_type": "display_data"
    }
   ],
   "source": [
    "import numpy as np\n",
    "import matplotlib.pyplot as plt\n",
    "\n",
    "# gerando 10000 números aleatórios com média 0 e desvio padrão 0.5\n",
    "vals = np.random.normal(0, 0.5, 10000)\n",
    "\n",
    "# mostrando em forma de histograma\n",
    "plt.hist(vals, 50)\n",
    "plt.show()"
   ]
  },
  {
   "cell_type": "markdown",
   "id": "6db0ecac",
   "metadata": {},
   "source": [
    "First Moment: Mean"
   ]
  },
  {
   "cell_type": "code",
   "execution_count": null,
   "id": "f843c6ca",
   "metadata": {},
   "outputs": [
    {
     "data": {
      "text/plain": [
       "np.float64(0.007732385054507054)"
      ]
     },
     "execution_count": 2,
     "metadata": {},
     "output_type": "execute_result"
    }
   ],
   "source": [
    "# calculando a média\n",
    "np.mean(vals)"
   ]
  },
  {
   "cell_type": "markdown",
   "id": "95b3a948",
   "metadata": {},
   "source": [
    "Second Moment: variance"
   ]
  },
  {
   "cell_type": "code",
   "execution_count": null,
   "id": "1339843e",
   "metadata": {},
   "outputs": [
    {
     "data": {
      "text/plain": [
       "np.float64(0.24547200707894104)"
      ]
     },
     "execution_count": 3,
     "metadata": {},
     "output_type": "execute_result"
    }
   ],
   "source": [
    "# variância\n",
    "np.var(vals)"
   ]
  },
  {
   "cell_type": "markdown",
   "id": "c9a1e86a",
   "metadata": {},
   "source": [
    "Third moment: skew"
   ]
  },
  {
   "cell_type": "code",
   "execution_count": null,
   "id": "0aa70f6d",
   "metadata": {},
   "outputs": [
    {
     "data": {
      "text/plain": [
       "np.float64(0.012266674022969607)"
      ]
     },
     "execution_count": 4,
     "metadata": {},
     "output_type": "execute_result"
    }
   ],
   "source": [
    "import scipy.stats as sp\n",
    "# calculando a assimetria\n",
    "sp.skew(vals)"
   ]
  },
  {
   "cell_type": "markdown",
   "id": "158e9ee0",
   "metadata": {},
   "source": [
    "Fourth moment: kurtosis"
   ]
  },
  {
   "cell_type": "code",
   "execution_count": null,
   "id": "1b62533d",
   "metadata": {},
   "outputs": [
    {
     "data": {
      "text/plain": [
       "np.float64(0.06622532743485232)"
      ]
     },
     "execution_count": 5,
     "metadata": {},
     "output_type": "execute_result"
    }
   ],
   "source": [
    "# calculando a curtose\n",
    "sp.kurtosis(vals)"
   ]
  },
  {
   "cell_type": "code",
   "execution_count": null,
   "id": "14194e68",
   "metadata": {},
   "outputs": [],
   "source": []
  }
 ],
 "metadata": {
  "kernelspec": {
   "display_name": "base",
   "language": "python",
   "name": "python3"
  },
  "language_info": {
   "codemirror_mode": {
    "name": "ipython",
    "version": 3
   },
   "file_extension": ".py",
   "mimetype": "text/x-python",
   "name": "python",
   "nbconvert_exporter": "python",
   "pygments_lexer": "ipython3",
   "version": "3.13.5"
  }
 },
 "nbformat": 4,
 "nbformat_minor": 5
}
