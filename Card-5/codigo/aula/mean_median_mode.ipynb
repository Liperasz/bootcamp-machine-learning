{
 "cells": [
  {
   "cell_type": "code",
   "execution_count": 1,
   "id": "bdbcd5e5",
   "metadata": {},
   "outputs": [],
   "source": [
    "import numpy as np\n",
    "#Importando o numpy"
   ]
  },
  {
   "cell_type": "code",
   "execution_count": 2,
   "id": "94ee7d6a",
   "metadata": {},
   "outputs": [
    {
     "data": {
      "text/plain": [
       "np.float64(26913.298710476254)"
      ]
     },
     "execution_count": 2,
     "metadata": {},
     "output_type": "execute_result"
    }
   ],
   "source": [
    "#Criando uma amostra de 10000 rendas anuais em com média de 27000 e desvio padrão de 15000\n",
    "incomes = np.random.normal(27000, 15000, 10000)\n",
    "#Calculando a media\n",
    "np.mean(incomes)"
   ]
  },
  {
   "cell_type": "code",
   "execution_count": 3,
   "id": "1800ab4f",
   "metadata": {},
   "outputs": [
    {
     "data": {
      "image/png": "[encoded data removed]",
      "text/plain": [
       "<Figure size 640x480 with 1 Axes>"
      ]
     },
     "metadata": {},
     "output_type": "display_data"
    }
   ],
   "source": [
    "# Comando do python para que o grafico apareça no notebook e não em uma janela separada ou algo do tipo.\n",
    "%matplotlib inline\n",
    "# Importando a biblioteca matplotlib (vizualicação de dados)\n",
    "import matplotlib.pyplot as plt\n",
    "# Criando um histograma com 50 barras\n",
    "plt.hist(incomes, 50)\n",
    "#Comando para mostrar o grafico\n",
    "plt.show()"
   ]
  },
  {
   "cell_type": "code",
   "execution_count": 4,
   "id": "7e6188ab",
   "metadata": {},
   "outputs": [
    {
     "data": {
      "text/plain": [
       "np.float64(26960.389544985817)"
      ]
     },
     "execution_count": 4,
     "metadata": {},
     "output_type": "execute_result"
    }
   ],
   "source": [
    "# Calculando a mediana das rendas\n",
    "np.median(incomes)"
   ]
  },
  {
   "cell_type": "code",
   "execution_count": 5,
   "id": "e369ff8d",
   "metadata": {},
   "outputs": [],
   "source": [
    "# Adicionando um valor absurdamente alto para ver a diferença nos resultados\n",
    "incomes = np.append(incomes, 1000000000)"
   ]
  },
  {
   "cell_type": "code",
   "execution_count": 6,
   "id": "23d7d256",
   "metadata": {},
   "outputs": [
    {
     "data": {
      "text/plain": [
       "np.float64(26960.552199260106)"
      ]
     },
     "execution_count": 6,
     "metadata": {},
     "output_type": "execute_result"
    }
   ],
   "source": [
    "# Na mediana o valor quase não houve alteração, ou seja, mostra melhor os dados do que na média.\n",
    "np.median(incomes)"
   ]
  },
  {
   "cell_type": "code",
   "execution_count": 7,
   "id": "0568c2d3",
   "metadata": {},
   "outputs": [
    {
     "data": {
      "text/plain": [
       "np.float64(126900.6086496113)"
      ]
     },
     "execution_count": 7,
     "metadata": {},
     "output_type": "execute_result"
    }
   ],
   "source": [
    "# Isso porque na média o valor teve essa diferença absurda no seu valor.\n",
    "np.mean(incomes)"
   ]
  },
  {
   "cell_type": "code",
   "execution_count": 8,
   "id": "ca3cf5bb",
   "metadata": {},
   "outputs": [
    {
     "data": {
      "text/plain": [
       "array([74, 66, 80, 78, 56, 64, 19, 47, 80, 34, 69, 76, 45, 29, 28, 49, 34,\n",
       "       74, 33, 71, 67, 82, 48, 40, 34, 73, 70, 52, 72, 42, 70, 19, 83, 68,\n",
       "       79, 47, 35, 84, 21, 53, 34, 76, 61, 34, 70, 33, 57, 35, 28, 46, 72,\n",
       "       54, 72, 34, 77, 29, 34, 64, 68, 79, 34, 69, 26, 89, 53, 34, 49, 40,\n",
       "       36, 65, 24, 19, 61, 60, 57, 22, 62, 73, 43, 53, 55, 56, 89, 52, 67,\n",
       "       35, 76, 56, 79, 46, 66, 83, 75, 27, 47, 89, 59, 18, 50, 77, 64, 85,\n",
       "       31, 22, 53, 80, 38, 64, 74, 23, 71, 31, 56, 82, 23, 30, 89, 86, 57,\n",
       "       84, 57, 85, 21, 73, 53, 37, 67, 58, 51, 66, 73, 70, 88, 83, 85, 54,\n",
       "       36, 45, 83, 33, 49, 40, 24, 23, 84, 71, 63, 81, 67, 61, 39, 86, 64,\n",
       "       83, 52, 63, 45, 73, 61, 49, 31, 55, 80, 44, 75, 73, 45, 53, 41, 59,\n",
       "       84, 40, 86, 29, 87, 42, 58, 78, 26, 44, 58, 42, 47, 48, 23, 26, 28,\n",
       "       60, 28, 43, 67, 85, 33, 20, 76, 47, 37, 36, 78, 88, 59, 21, 84, 68,\n",
       "       68, 77, 41, 71, 27, 21, 71, 37, 41, 75, 31, 34, 57, 28, 83, 65, 45,\n",
       "       74, 61, 55, 88, 62, 65, 42, 51, 31, 57, 19, 19, 76, 56, 27, 56, 76,\n",
       "       33, 35, 39, 23, 44, 55, 87, 86, 72, 88, 61, 20, 27, 40, 63, 88, 76,\n",
       "       51, 50, 65, 23, 26, 78, 81, 35, 87, 38, 60, 52, 30, 46, 85, 36, 48,\n",
       "       70, 87, 73, 87, 46, 76, 37, 41, 66, 88, 85, 64, 36, 38, 27, 51, 89,\n",
       "       29, 55, 54, 31, 20, 74, 41, 54, 64, 55, 33, 67, 39, 46, 37, 30, 63,\n",
       "       21, 89, 83, 80, 44, 89, 32, 21, 59, 86, 24, 23, 25, 79, 21, 66, 57,\n",
       "       65, 35, 89, 65, 33, 85, 44, 70, 64, 18, 26, 20, 80, 75, 83, 56, 33,\n",
       "       39, 70, 50, 73, 39, 81, 70, 54, 63, 26, 58, 45, 20, 75, 78, 80, 56,\n",
       "       85, 74, 41, 45, 31, 36, 40, 29, 62, 67, 83, 77, 32, 82, 41, 44, 49,\n",
       "       62, 58, 19, 32, 56, 44, 33, 71, 22, 24, 78, 88, 36, 60, 52, 58, 37,\n",
       "       63, 52, 71, 45, 41, 85, 73, 35, 42, 20, 42, 52, 24, 27, 47, 64, 75,\n",
       "       60, 85, 21, 27, 34, 65, 69, 49, 34, 87, 18, 87, 69, 40, 51, 51, 41,\n",
       "       47, 75, 32, 35, 86, 45, 82, 30, 43, 88, 20, 70, 79, 73, 80, 68, 66,\n",
       "       48, 26, 75, 24, 89, 67, 39, 55, 41, 25, 25, 49, 31, 44, 28, 34, 18,\n",
       "       49, 38, 57, 30, 83, 41, 56, 67, 58, 81, 20, 49, 24, 35, 45, 73, 33,\n",
       "       27, 57, 50, 37, 51, 18, 69, 37, 67, 88, 33, 73, 64, 52, 35, 65, 31,\n",
       "       35, 50, 34, 82, 31, 79, 34])"
      ]
     },
     "execution_count": 8,
     "metadata": {},
     "output_type": "execute_result"
    }
   ],
   "source": [
    "# Criando uma amostra de 500 idades entre 18 e 90 anos.\n",
    "ages = np.random.randint(18, high=90, size=500)\n",
    "ages"
   ]
  },
  {
   "cell_type": "code",
   "execution_count": 9,
   "id": "8c4dd46e",
   "metadata": {},
   "outputs": [
    {
     "data": {
      "text/plain": [
       "ModeResult(mode=np.int64(34), count=np.int64(15))"
      ]
     },
     "execution_count": 9,
     "metadata": {},
     "output_type": "execute_result"
    }
   ],
   "source": [
    "# importando a biblioteca scipy (estatisticas).\n",
    "from scipy import stats\n",
    "# Calculando a moda das idades.\n",
    "stats.mode(ages)"
   ]
  },
  {
   "cell_type": "markdown",
   "id": "ed8f25c6",
   "metadata": {},
   "source": [
    "Exercício"
   ]
  },
  {
   "cell_type": "code",
   "execution_count": 10,
   "id": "bda6391e",
   "metadata": {},
   "outputs": [
    {
     "data": {
      "image/png": "[encoded data removed]",
      "text/plain": [
       "<Figure size 640x480 with 1 Axes>"
      ]
     },
     "metadata": {},
     "output_type": "display_data"
    }
   ],
   "source": [
    "incomes = np.random.normal(100.0, 20.0, 10000)\n",
    "\n",
    "plt.hist(incomes, 50)  \n",
    "plt.show()"
   ]
  },
  {
   "cell_type": "markdown",
   "id": "18fc880f",
   "metadata": {},
   "source": [
    "Achar a média e mediana no bloco abaixo"
   ]
  },
  {
   "cell_type": "code",
   "execution_count": 11,
   "id": "1d67e5f3",
   "metadata": {},
   "outputs": [
    {
     "data": {
      "text/plain": [
       "np.float64(100.01488796948377)"
      ]
     },
     "execution_count": 11,
     "metadata": {},
     "output_type": "execute_result"
    }
   ],
   "source": [
    "incomes.mean()"
   ]
  },
  {
   "cell_type": "code",
   "execution_count": 13,
   "id": "11887ed5",
   "metadata": {},
   "outputs": [
    {
     "data": {
      "text/plain": [
       "np.float64(99.92362111455878)"
      ]
     },
     "execution_count": 13,
     "metadata": {},
     "output_type": "execute_result"
    }
   ],
   "source": [
    "np.median(incomes)"
   ]
  },
  {
   "cell_type": "markdown",
   "id": "50416a00",
   "metadata": {},
   "source": [
    "Faz sentido pq foi feito uma distribuição normal tendo 100 como média, logo o resultado da média dar 100 é obviamente o esperado, e a mediana a mesma coisa"
   ]
  }
 ],
 "metadata": {
  "kernelspec": {
   "display_name": "base",
   "language": "python",
   "name": "python3"
  },
  "language_info": {
   "codemirror_mode": {
    "name": "ipython",
    "version": 3
   },
   "file_extension": ".py",
   "mimetype": "text/x-python",
   "name": "python",
   "nbconvert_exporter": "python",
   "pygments_lexer": "ipython3",
   "version": "3.13.5"
  }
 },
 "nbformat": 4,
 "nbformat_minor": 5
}
