{
 "cells": [
  {
   "cell_type": "markdown",
   "id": "eb0622b4",
   "metadata": {
    "papermill": {
     "duration": 0.002343,
     "end_time": "2025-09-19T15:03:38.075200",
     "exception": false,
     "start_time": "2025-09-19T15:03:38.072857",
     "status": "completed"
    },
    "tags": []
   },
   "source": [
    "# Example Kaggle Notebook\n",
    "This is great"
   ]
  },
  {
   "cell_type": "code",
   "execution_count": 1,
   "id": "71a64955",
   "metadata": {
    "execution": {
     "iopub.execute_input": "2025-09-19T15:03:38.080449Z",
     "iopub.status.busy": "2025-09-19T15:03:38.080120Z",
     "iopub.status.idle": "2025-09-19T15:03:38.088305Z",
     "shell.execute_reply": "2025-09-19T15:03:38.087570Z"
    },
    "papermill": {
     "duration": 0.012449,
     "end_time": "2025-09-19T15:03:38.089622",
     "exception": false,
     "start_time": "2025-09-19T15:03:38.077173",
     "status": "completed"
    },
    "tags": []
   },
   "outputs": [
    {
     "name": "stdout",
     "output_type": "stream",
     "text": [
      "test test 123\n"
     ]
    }
   ],
   "source": [
    "print('test test 123')"
   ]
  },
  {
   "cell_type": "code",
   "execution_count": 2,
   "id": "1c750ac9",
   "metadata": {
    "execution": {
     "iopub.execute_input": "2025-09-19T15:03:38.094477Z",
     "iopub.status.busy": "2025-09-19T15:03:38.094245Z",
     "iopub.status.idle": "2025-09-19T15:03:39.798606Z",
     "shell.execute_reply": "2025-09-19T15:03:39.797598Z"
    },
    "papermill": {
     "duration": 1.708709,
     "end_time": "2025-09-19T15:03:39.800353",
     "exception": false,
     "start_time": "2025-09-19T15:03:38.091644",
     "status": "completed"
    },
    "tags": []
   },
   "outputs": [],
   "source": [
    "import pandas as pd"
   ]
  },
  {
   "cell_type": "code",
   "execution_count": 3,
   "id": "5d20ae2d",
   "metadata": {
    "execution": {
     "iopub.execute_input": "2025-09-19T15:03:39.805506Z",
     "iopub.status.busy": "2025-09-19T15:03:39.805142Z",
     "iopub.status.idle": "2025-09-19T15:03:54.001901Z",
     "shell.execute_reply": "2025-09-19T15:03:54.000505Z"
    },
    "papermill": {
     "duration": 14.201299,
     "end_time": "2025-09-19T15:03:54.003732",
     "exception": false,
     "start_time": "2025-09-19T15:03:39.802433",
     "status": "completed"
    },
    "tags": []
   },
   "outputs": [],
   "source": [
    "# importando o arquivo csv (baixado diretamente no kraggle)\n",
    "df = pd.read_csv('../input/mrbeast-youtube-stats-daily/MrBeast_youtube_stats.csv')"
   ]
  },
  {
   "cell_type": "code",
   "execution_count": 4,
   "id": "f8364720",
   "metadata": {
    "execution": {
     "iopub.execute_input": "2025-09-19T15:03:54.009364Z",
     "iopub.status.busy": "2025-09-19T15:03:54.009085Z",
     "iopub.status.idle": "2025-09-19T15:03:54.053092Z",
     "shell.execute_reply": "2025-09-19T15:03:54.052067Z"
    },
    "papermill": {
     "duration": 0.048732,
     "end_time": "2025-09-19T15:03:54.054679",
     "exception": false,
     "start_time": "2025-09-19T15:03:54.005947",
     "status": "completed"
    },
    "tags": []
   },
   "outputs": [
    {
     "data": {
      "text/html": [
       "<div>\n",
       "<style scoped>\n",
       "    .dataframe tbody tr th:only-of-type {\n",
       "        vertical-align: middle;\n",
       "    }\n",
       "\n",
       "    .dataframe tbody tr th {\n",
       "        vertical-align: top;\n",
       "    }\n",
       "\n",
       "    .dataframe thead th {\n",
       "        text-align: right;\n",
       "    }\n",
       "</style>\n",
       "<table border=\"1\" class=\"dataframe\">\n",
       "  <thead>\n",
       "    <tr style=\"text-align: right;\">\n",
       "      <th></th>\n",
       "      <th>id</th>\n",
       "      <th>title</th>\n",
       "      <th>description</th>\n",
       "      <th>publishTime</th>\n",
       "      <th>kind_stats</th>\n",
       "      <th>duration_seconds</th>\n",
       "      <th>viewCount</th>\n",
       "      <th>likeCount</th>\n",
       "      <th>commentCount</th>\n",
       "      <th>thumbnails.default.url</th>\n",
       "      <th>...</th>\n",
       "      <th>thumbnails.high.width</th>\n",
       "      <th>thumbnails.high.height</th>\n",
       "      <th>contentDetails.duration</th>\n",
       "      <th>contentDetails.dimension</th>\n",
       "      <th>topicDetails.topicCategories</th>\n",
       "      <th>snippet.defaultLanguage</th>\n",
       "      <th>localizations.en.title</th>\n",
       "      <th>localizations.en.description</th>\n",
       "      <th>snippet.tags</th>\n",
       "      <th>pull_date</th>\n",
       "    </tr>\n",
       "  </thead>\n",
       "  <tbody>\n",
       "    <tr>\n",
       "      <th>0</th>\n",
       "      <td>19NmWqv4Alk</td>\n",
       "      <td>How Many School Buses Can We Stack?</td>\n",
       "      <td>NaN</td>\n",
       "      <td>2023-09-05 16:59:57+00:00</td>\n",
       "      <td>youtube#video</td>\n",
       "      <td>45</td>\n",
       "      <td>4.881785e+08</td>\n",
       "      <td>15416800.0</td>\n",
       "      <td>28537.0</td>\n",
       "      <td>https://i.ytimg.com/vi/19NmWqv4Alk/default.jpg</td>\n",
       "      <td>...</td>\n",
       "      <td>480.0</td>\n",
       "      <td>360.0</td>\n",
       "      <td>PT45S</td>\n",
       "      <td>2d</td>\n",
       "      <td>['https://en.wikipedia.org/wiki/Lifestyle_(soc...</td>\n",
       "      <td>en</td>\n",
       "      <td>How Many School Buses Can We Stack?</td>\n",
       "      <td>NaN</td>\n",
       "      <td>NaN</td>\n",
       "      <td>2025-09-19 00:03:44.264337+00:00</td>\n",
       "    </tr>\n",
       "    <tr>\n",
       "      <th>1</th>\n",
       "      <td>L5kIXRdwGAI</td>\n",
       "      <td>Katana Vs Bullet</td>\n",
       "      <td>NaN</td>\n",
       "      <td>2023-09-07 17:00:01+00:00</td>\n",
       "      <td>youtube#video</td>\n",
       "      <td>41</td>\n",
       "      <td>1.078783e+09</td>\n",
       "      <td>37517122.0</td>\n",
       "      <td>50854.0</td>\n",
       "      <td>https://i.ytimg.com/vi/L5kIXRdwGAI/default.jpg</td>\n",
       "      <td>...</td>\n",
       "      <td>480.0</td>\n",
       "      <td>360.0</td>\n",
       "      <td>PT41S</td>\n",
       "      <td>2d</td>\n",
       "      <td>['https://en.wikipedia.org/wiki/Entertainment']</td>\n",
       "      <td>en</td>\n",
       "      <td>Katana Vs Bullet</td>\n",
       "      <td>NaN</td>\n",
       "      <td>NaN</td>\n",
       "      <td>2025-09-19 00:03:44.264337+00:00</td>\n",
       "    </tr>\n",
       "    <tr>\n",
       "      <th>2</th>\n",
       "      <td>QtD-CeUdRUQ</td>\n",
       "      <td>Real Or Cake For $10,000</td>\n",
       "      <td>NaN</td>\n",
       "      <td>2024-08-29 16:00:00+00:00</td>\n",
       "      <td>youtube#video</td>\n",
       "      <td>37</td>\n",
       "      <td>2.283948e+08</td>\n",
       "      <td>7670355.0</td>\n",
       "      <td>17532.0</td>\n",
       "      <td>https://i.ytimg.com/vi/QtD-CeUdRUQ/default.jpg</td>\n",
       "      <td>...</td>\n",
       "      <td>480.0</td>\n",
       "      <td>360.0</td>\n",
       "      <td>PT37S</td>\n",
       "      <td>2d</td>\n",
       "      <td>['https://en.wikipedia.org/wiki/Entertainment']</td>\n",
       "      <td>en</td>\n",
       "      <td>Real Or Cake For $10,000</td>\n",
       "      <td>NaN</td>\n",
       "      <td>NaN</td>\n",
       "      <td>2025-09-19 00:03:44.264337+00:00</td>\n",
       "    </tr>\n",
       "    <tr>\n",
       "      <th>3</th>\n",
       "      <td>nAiKLoCP-kU</td>\n",
       "      <td>Reach the Money, Win $10,000</td>\n",
       "      <td>NaN</td>\n",
       "      <td>2025-02-14 18:15:00+00:00</td>\n",
       "      <td>youtube#video</td>\n",
       "      <td>25</td>\n",
       "      <td>4.642003e+08</td>\n",
       "      <td>7441751.0</td>\n",
       "      <td>8845.0</td>\n",
       "      <td>https://i.ytimg.com/vi/nAiKLoCP-kU/default.jpg</td>\n",
       "      <td>...</td>\n",
       "      <td>480.0</td>\n",
       "      <td>360.0</td>\n",
       "      <td>PT25S</td>\n",
       "      <td>2d</td>\n",
       "      <td>['https://en.wikipedia.org/wiki/Lifestyle_(soc...</td>\n",
       "      <td>en</td>\n",
       "      <td>Reach the Money, Win $10,000</td>\n",
       "      <td>NaN</td>\n",
       "      <td>NaN</td>\n",
       "      <td>2025-09-19 00:03:44.264337+00:00</td>\n",
       "    </tr>\n",
       "    <tr>\n",
       "      <th>4</th>\n",
       "      <td>EvqtfK_RaRg</td>\n",
       "      <td>This obstacle course is WILD</td>\n",
       "      <td>NaN</td>\n",
       "      <td>2025-01-10 17:00:00+00:00</td>\n",
       "      <td>youtube#video</td>\n",
       "      <td>32</td>\n",
       "      <td>2.015938e+08</td>\n",
       "      <td>3827290.0</td>\n",
       "      <td>5324.0</td>\n",
       "      <td>https://i.ytimg.com/vi/EvqtfK_RaRg/default.jpg</td>\n",
       "      <td>...</td>\n",
       "      <td>480.0</td>\n",
       "      <td>360.0</td>\n",
       "      <td>PT32S</td>\n",
       "      <td>2d</td>\n",
       "      <td>['https://en.wikipedia.org/wiki/Entertainment']</td>\n",
       "      <td>en</td>\n",
       "      <td>This obstacle course is WILD</td>\n",
       "      <td>NaN</td>\n",
       "      <td>NaN</td>\n",
       "      <td>2025-09-19 00:03:44.264337+00:00</td>\n",
       "    </tr>\n",
       "  </tbody>\n",
       "</table>\n",
       "<p>5 rows × 26 columns</p>\n",
       "</div>"
      ],
      "text/plain": [
       "            id                                title description  \\\n",
       "0  19NmWqv4Alk  How Many School Buses Can We Stack?         NaN   \n",
       "1  L5kIXRdwGAI                     Katana Vs Bullet         NaN   \n",
       "2  QtD-CeUdRUQ             Real Or Cake For $10,000         NaN   \n",
       "3  nAiKLoCP-kU         Reach the Money, Win $10,000         NaN   \n",
       "4  EvqtfK_RaRg         This obstacle course is WILD         NaN   \n",
       "\n",
       "                 publishTime     kind_stats  duration_seconds     viewCount  \\\n",
       "0  2023-09-05 16:59:57+00:00  youtube#video                45  4.881785e+08   \n",
       "1  2023-09-07 17:00:01+00:00  youtube#video                41  1.078783e+09   \n",
       "2  2024-08-29 16:00:00+00:00  youtube#video                37  2.283948e+08   \n",
       "3  2025-02-14 18:15:00+00:00  youtube#video                25  4.642003e+08   \n",
       "4  2025-01-10 17:00:00+00:00  youtube#video                32  2.015938e+08   \n",
       "\n",
       "    likeCount  commentCount                          thumbnails.default.url  \\\n",
       "0  15416800.0       28537.0  https://i.ytimg.com/vi/19NmWqv4Alk/default.jpg   \n",
       "1  37517122.0       50854.0  https://i.ytimg.com/vi/L5kIXRdwGAI/default.jpg   \n",
       "2   7670355.0       17532.0  https://i.ytimg.com/vi/QtD-CeUdRUQ/default.jpg   \n",
       "3   7441751.0        8845.0  https://i.ytimg.com/vi/nAiKLoCP-kU/default.jpg   \n",
       "4   3827290.0        5324.0  https://i.ytimg.com/vi/EvqtfK_RaRg/default.jpg   \n",
       "\n",
       "   ...  thumbnails.high.width  thumbnails.high.height contentDetails.duration  \\\n",
       "0  ...                  480.0                   360.0                   PT45S   \n",
       "1  ...                  480.0                   360.0                   PT41S   \n",
       "2  ...                  480.0                   360.0                   PT37S   \n",
       "3  ...                  480.0                   360.0                   PT25S   \n",
       "4  ...                  480.0                   360.0                   PT32S   \n",
       "\n",
       "   contentDetails.dimension  \\\n",
       "0                        2d   \n",
       "1                        2d   \n",
       "2                        2d   \n",
       "3                        2d   \n",
       "4                        2d   \n",
       "\n",
       "                        topicDetails.topicCategories snippet.defaultLanguage  \\\n",
       "0  ['https://en.wikipedia.org/wiki/Lifestyle_(soc...                      en   \n",
       "1    ['https://en.wikipedia.org/wiki/Entertainment']                      en   \n",
       "2    ['https://en.wikipedia.org/wiki/Entertainment']                      en   \n",
       "3  ['https://en.wikipedia.org/wiki/Lifestyle_(soc...                      en   \n",
       "4    ['https://en.wikipedia.org/wiki/Entertainment']                      en   \n",
       "\n",
       "                localizations.en.title  localizations.en.description  \\\n",
       "0  How Many School Buses Can We Stack?                           NaN   \n",
       "1                     Katana Vs Bullet                           NaN   \n",
       "2             Real Or Cake For $10,000                           NaN   \n",
       "3         Reach the Money, Win $10,000                           NaN   \n",
       "4         This obstacle course is WILD                           NaN   \n",
       "\n",
       "  snippet.tags                         pull_date  \n",
       "0          NaN  2025-09-19 00:03:44.264337+00:00  \n",
       "1          NaN  2025-09-19 00:03:44.264337+00:00  \n",
       "2          NaN  2025-09-19 00:03:44.264337+00:00  \n",
       "3          NaN  2025-09-19 00:03:44.264337+00:00  \n",
       "4          NaN  2025-09-19 00:03:44.264337+00:00  \n",
       "\n",
       "[5 rows x 26 columns]"
      ]
     },
     "execution_count": 4,
     "metadata": {},
     "output_type": "execute_result"
    }
   ],
   "source": [
    "# mostrando o topo do dataframe\n",
    "df.head()"
   ]
  },
  {
   "cell_type": "code",
   "execution_count": 5,
   "id": "159a31cb",
   "metadata": {
    "execution": {
     "iopub.execute_input": "2025-09-19T15:03:54.061334Z",
     "iopub.status.busy": "2025-09-19T15:03:54.060269Z",
     "iopub.status.idle": "2025-09-19T15:03:56.468031Z",
     "shell.execute_reply": "2025-09-19T15:03:56.467131Z"
    },
    "papermill": {
     "duration": 2.412374,
     "end_time": "2025-09-19T15:03:56.469524",
     "exception": false,
     "start_time": "2025-09-19T15:03:54.057150",
     "status": "completed"
    },
    "tags": []
   },
   "outputs": [
    {
     "data": {
      "text/plain": [
       "<Axes: title={'center': 'Mr. Beast Videos'}, xlabel='viewCount', ylabel='likeCount'>"
      ]
     },
     "execution_count": 5,
     "metadata": {},
     "output_type": "execute_result"
    },
    {
     "data": {
      "image/png": "[encoded data removed]",
      "text/plain": [
       "<Figure size 640x480 with 1 Axes>"
      ]
     },
     "metadata": {},
     "output_type": "display_data"
    }
   ],
   "source": [
    "# criando um gráfico mostrando a relação dos likes com as vizualizações dos vídeos do mr beast\n",
    "df.plot(x='viewCount', y='likeCount', kind='scatter', title='Mr. Beast Videos')"
   ]
  },
  {
   "cell_type": "code",
   "execution_count": null,
   "id": "4bf15810",
   "metadata": {
    "papermill": {
     "duration": 0.002665,
     "end_time": "2025-09-19T15:03:56.475471",
     "exception": false,
     "start_time": "2025-09-19T15:03:56.472806",
     "status": "completed"
    },
    "tags": []
   },
   "outputs": [],
   "source": []
  }
 ],
 "metadata": {
  "kaggle": {
   "accelerator": "none",
   "dataSources": [
    {
     "datasetId": 1816829,
     "sourceId": 13103352,
     "sourceType": "datasetVersion"
    }
   ],
   "dockerImageVersionId": 31089,
   "isGpuEnabled": false,
   "isInternetEnabled": false,
   "language": "python",
   "sourceType": "notebook"
  },
  "kernelspec": {
   "display_name": "Python 3",
   "language": "python",
   "name": "python3"
  },
  "language_info": {
   "codemirror_mode": {
    "name": "ipython",
    "version": 3
   },
   "file_extension": ".py",
   "mimetype": "text/x-python",
   "name": "python",
   "nbconvert_exporter": "python",
   "pygments_lexer": "ipython3",
   "version": "3.11.13"
  },
  "papermill": {
   "default_parameters": {},
   "duration": 24.098057,
   "end_time": "2025-09-19T15:03:56.999207",
   "environment_variables": {},
   "exception": null,
   "input_path": "__notebook__.ipynb",
   "output_path": "__notebook__.ipynb",
   "parameters": {},
   "start_time": "2025-09-19T15:03:32.901150",
   "version": "2.6.0"
  }
 },
 "nbformat": 4,
 "nbformat_minor": 5
}
