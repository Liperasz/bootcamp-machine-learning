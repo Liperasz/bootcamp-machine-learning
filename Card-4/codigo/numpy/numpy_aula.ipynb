{
 "cells": [
  {
   "cell_type": "code",
   "execution_count": 2,
   "id": "cabaf3e7-e61b-48aa-bb91-0d1109671c5e",
   "metadata": {},
   "outputs": [],
   "source": [
    "import numpy as np"
   ]
  },
  {
   "cell_type": "markdown",
   "id": "807d2e07-4eeb-4842-907b-5c674cad6afd",
   "metadata": {},
   "source": [
    "Numpy Arrays"
   ]
  },
  {
   "cell_type": "code",
   "execution_count": 3,
   "id": "0ba507f4-18f9-4fa0-94db-9c6c4f31037f",
   "metadata": {},
   "outputs": [],
   "source": [
    "minha_lista = [1, 2, 3]"
   ]
  },
  {
   "cell_type": "code",
   "execution_count": 4,
   "id": "f0bdad8b-e31d-4294-91d6-3b6772d53ac0",
   "metadata": {},
   "outputs": [
    {
     "data": {
      "text/plain": [
       "[1, 2, 3]"
      ]
     },
     "execution_count": 4,
     "metadata": {},
     "output_type": "execute_result"
    }
   ],
   "source": [
    "minha_lista"
   ]
  },
  {
   "cell_type": "code",
   "execution_count": 5,
   "id": "24d5403d-41f1-4b44-8628-7ff4466da52b",
   "metadata": {},
   "outputs": [
    {
     "data": {
      "text/plain": [
       "array([1, 2, 3])"
      ]
     },
     "execution_count": 5,
     "metadata": {},
     "output_type": "execute_result"
    }
   ],
   "source": [
    "np.array(minha_lista) # Criando um array do numpy."
   ]
  },
  {
   "cell_type": "code",
   "execution_count": 6,
   "id": "b4019d18-04f7-471d-b16e-cbe928ec7726",
   "metadata": {},
   "outputs": [],
   "source": [
    "minha_matriz = [[1, 2, 3], [4, 5, 6], [7, 8, 9]]"
   ]
  },
  {
   "cell_type": "code",
   "execution_count": 7,
   "id": "e252034f-84db-4a4f-88a1-0a642ddab2e1",
   "metadata": {},
   "outputs": [
    {
     "data": {
      "text/plain": [
       "array([[1, 2, 3],\n",
       "       [4, 5, 6],\n",
       "       [7, 8, 9]])"
      ]
     },
     "execution_count": 7,
     "metadata": {},
     "output_type": "execute_result"
    }
   ],
   "source": [
    "np.array(minha_matriz) # Criando uma outra array no numpy, agora como matriz."
   ]
  },
  {
   "cell_type": "code",
   "execution_count": 8,
   "id": "ae713605-1c22-4f58-aaef-a88470e4acfc",
   "metadata": {},
   "outputs": [
    {
     "data": {
      "text/plain": [
       "array([0, 1, 2, 3, 4, 5, 6, 7, 8, 9])"
      ]
     },
     "execution_count": 8,
     "metadata": {},
     "output_type": "execute_result"
    }
   ],
   "source": [
    "np.arange(0, 10) # Função arange para criar um array sequencial."
   ]
  },
  {
   "cell_type": "code",
   "execution_count": 9,
   "id": "a36913a0-0ca4-4ba7-8c68-4444e2e8b920",
   "metadata": {},
   "outputs": [
    {
     "data": {
      "text/plain": [
       "array([0, 2, 4, 6, 8])"
      ]
     },
     "execution_count": 9,
     "metadata": {},
     "output_type": "execute_result"
    }
   ],
   "source": [
    "np.arange(0, 10, 2) # Definindo o passo do arange de 2 em 2 números."
   ]
  },
  {
   "cell_type": "code",
   "execution_count": 10,
   "id": "408d4405-e8f3-4f03-a9fb-e36cd57622d1",
   "metadata": {},
   "outputs": [
    {
     "data": {
      "text/plain": [
       "array([0., 0., 0.])"
      ]
     },
     "execution_count": 10,
     "metadata": {},
     "output_type": "execute_result"
    }
   ],
   "source": [
    "np.zeros(3) # Criando um array de zeros"
   ]
  },
  {
   "cell_type": "code",
   "execution_count": 11,
   "id": "4e7175be-5b2a-41d8-bdbb-39b4e1901b91",
   "metadata": {},
   "outputs": [],
   "source": [
    "arr = np.zeros(3)"
   ]
  },
  {
   "cell_type": "code",
   "execution_count": 12,
   "id": "6328449c-fbaf-4c8b-ba8a-4f1e6544a7c6",
   "metadata": {},
   "outputs": [
    {
     "data": {
      "text/plain": [
       "array([0., 0., 0.])"
      ]
     },
     "execution_count": 12,
     "metadata": {},
     "output_type": "execute_result"
    }
   ],
   "source": [
    "arr"
   ]
  },
  {
   "cell_type": "code",
   "execution_count": 13,
   "id": "f69167c3-42c8-41b9-bd18-2111fb8258ff",
   "metadata": {},
   "outputs": [],
   "source": [
    "arr = np.zeros((5, 5)) # Criando uma array matriz de zeros."
   ]
  },
  {
   "cell_type": "code",
   "execution_count": 14,
   "id": "36d9d047-191a-43cc-8dd2-0be7ecc95260",
   "metadata": {},
   "outputs": [
    {
     "data": {
      "text/plain": [
       "array([[0., 0., 0., 0., 0.],\n",
       "       [0., 0., 0., 0., 0.],\n",
       "       [0., 0., 0., 0., 0.],\n",
       "       [0., 0., 0., 0., 0.],\n",
       "       [0., 0., 0., 0., 0.]])"
      ]
     },
     "execution_count": 14,
     "metadata": {},
     "output_type": "execute_result"
    }
   ],
   "source": [
    "arr"
   ]
  },
  {
   "cell_type": "code",
   "execution_count": 15,
   "id": "1b28083d-5f98-492e-b37c-42e17b54b0eb",
   "metadata": {},
   "outputs": [
    {
     "data": {
      "text/plain": [
       "array([[1., 1., 1.],\n",
       "       [1., 1., 1.],\n",
       "       [1., 1., 1.]])"
      ]
     },
     "execution_count": 15,
     "metadata": {},
     "output_type": "execute_result"
    }
   ],
   "source": [
    "np.ones((3, 3)) # Criando uma array matriz de 1."
   ]
  },
  {
   "cell_type": "code",
   "execution_count": 16,
   "id": "8e9c351e-7534-4d48-8bd4-45ba284e18a0",
   "metadata": {},
   "outputs": [
    {
     "data": {
      "text/plain": [
       "array([[1., 0., 0., 0.],\n",
       "       [0., 1., 0., 0.],\n",
       "       [0., 0., 1., 0.],\n",
       "       [0., 0., 0., 1.]])"
      ]
     },
     "execution_count": 16,
     "metadata": {},
     "output_type": "execute_result"
    }
   ],
   "source": [
    "np.eye(4) # Matriz identidade, define apenas o número de linhas e colunas (identidade é sempre uma matriz quadrada)"
   ]
  },
  {
   "cell_type": "code",
   "execution_count": 17,
   "id": "9a8f9ea6-c049-461c-abd2-7f2f68c09c2e",
   "metadata": {},
   "outputs": [
    {
     "data": {
      "text/plain": [
       "array([ 0., 10.])"
      ]
     },
     "execution_count": 17,
     "metadata": {},
     "output_type": "execute_result"
    }
   ],
   "source": [
    "np.linspace(0, 10, 2) # Linspace define um array com o mesmo espaçamento entre os elementos."
   ]
  },
  {
   "cell_type": "code",
   "execution_count": 18,
   "id": "91377023-9ea5-4b72-91e1-a3171b81e1ce",
   "metadata": {},
   "outputs": [
    {
     "data": {
      "text/plain": [
       "array([ 0.,  5., 10.])"
      ]
     },
     "execution_count": 18,
     "metadata": {},
     "output_type": "execute_result"
    }
   ],
   "source": [
    "np.linspace(0, 10, 3)"
   ]
  },
  {
   "cell_type": "code",
   "execution_count": 19,
   "id": "e371ab02-aacb-4b41-8701-022f19377669",
   "metadata": {},
   "outputs": [
    {
     "data": {
      "text/plain": [
       "array([0.76055898, 0.19838401, 0.15215497, 0.40559264, 0.82703742])"
      ]
     },
     "execution_count": 19,
     "metadata": {},
     "output_type": "execute_result"
    }
   ],
   "source": [
    "np.random.rand(5) # Random contem vários métodos para gerar números aleatóriamente, nesse caso um array de 5 números aleatórios.\n",
    "# Rand define números uniformemente distribuidos, ou seja, eles tem a mesma chance de serem escolhidos."
   ]
  },
  {
   "cell_type": "code",
   "execution_count": 20,
   "id": "8a0309f8-406a-4160-b876-5aad7bccf72d",
   "metadata": {},
   "outputs": [
    {
     "data": {
      "text/plain": [
       "array([31.03061447, 69.13378216, 93.68756676, 50.70316932, 61.55813174])"
      ]
     },
     "execution_count": 20,
     "metadata": {},
     "output_type": "execute_result"
    }
   ],
   "source": [
    "np.random.rand(5) * 100"
   ]
  },
  {
   "cell_type": "code",
   "execution_count": 21,
   "id": "18485cd1-7b18-4e53-a8e8-9cee11e4278a",
   "metadata": {},
   "outputs": [
    {
     "data": {
      "text/plain": [
       "array([[0.5836652 , 0.92310565, 0.39162544, 0.22142816],\n",
       "       [0.04283189, 0.49049561, 0.74612179, 0.17016872],\n",
       "       [0.29673083, 0.71319549, 0.08684032, 0.1262158 ],\n",
       "       [0.03675713, 0.89093751, 0.63098314, 0.54038777],\n",
       "       [0.96678623, 0.24592863, 0.25874638, 0.61447236]])"
      ]
     },
     "execution_count": 21,
     "metadata": {},
     "output_type": "execute_result"
    }
   ],
   "source": [
    "np.random.rand(5, 4) # Aqui um array matriz de números aleatórios"
   ]
  },
  {
   "cell_type": "code",
   "execution_count": 22,
   "id": "53fdede2-7868-4830-88b6-0a8087a640c5",
   "metadata": {},
   "outputs": [
    {
     "data": {
      "text/plain": [
       "array([[[0.19999151, 0.7384138 , 0.72291755],\n",
       "        [0.66570016, 0.08030989, 0.83994134],\n",
       "        [0.52923108, 0.62443415, 0.56994746],\n",
       "        [0.67056868, 0.98337829, 0.23963465]],\n",
       "\n",
       "       [[0.48888506, 0.95506288, 0.22417817],\n",
       "        [0.52042645, 0.14792919, 0.29004637],\n",
       "        [0.89076526, 0.70651259, 0.23580479],\n",
       "        [0.88362064, 0.44098661, 0.93203796]],\n",
       "\n",
       "       [[0.41254424, 0.74803601, 0.43897691],\n",
       "        [0.93730126, 0.34965487, 0.50347025],\n",
       "        [0.23839752, 0.90064546, 0.20226495],\n",
       "        [0.17764999, 0.60575321, 0.54613768]],\n",
       "\n",
       "       [[0.37144933, 0.45909702, 0.71425926],\n",
       "        [0.17816373, 0.2337026 , 0.59373702],\n",
       "        [0.21270645, 0.90974508, 0.76708652],\n",
       "        [0.82599958, 0.24674271, 0.54402824]],\n",
       "\n",
       "       [[0.80296424, 0.21360791, 0.12124634],\n",
       "        [0.26716613, 0.12794344, 0.1728456 ],\n",
       "        [0.56643141, 0.88687908, 0.66252664],\n",
       "        [0.45878589, 0.99853121, 0.27759369]]])"
      ]
     },
     "execution_count": 22,
     "metadata": {},
     "output_type": "execute_result"
    }
   ],
   "source": [
    "np.random.rand(5, 4, 3) # Aqui seria como um objeto 3d, pois possui uma terceira dimensão invés de 2 como em uma matriz."
   ]
  },
  {
   "cell_type": "code",
   "execution_count": 23,
   "id": "bd1f56fa-64b1-4e53-958c-a687923c877d",
   "metadata": {},
   "outputs": [
    {
     "data": {
      "text/plain": [
       "array([-0.45495032,  1.0778122 , -0.80727505,  0.54290323])"
      ]
     },
     "execution_count": 23,
     "metadata": {},
     "output_type": "execute_result"
    }
   ],
   "source": [
    "np.random.randn(4) # RandN faz uma distribuição aleatória normal."
   ]
  },
  {
   "cell_type": "code",
   "execution_count": 24,
   "id": "56afa84b-c07b-4055-86f2-21f703a09d29",
   "metadata": {},
   "outputs": [
    {
     "data": {
      "text/plain": [
       "array([58, 77, 38, 77, 12, 35,  8, 61, 26, 87])"
      ]
     },
     "execution_count": 24,
     "metadata": {},
     "output_type": "execute_result"
    }
   ],
   "source": [
    "np.random.randint(0, 100, 10) # Números aleatórios Inteiros"
   ]
  },
  {
   "cell_type": "code",
   "execution_count": 25,
   "id": "4bfb4343-6ba0-4da4-b552-2326badd8adc",
   "metadata": {},
   "outputs": [
    {
     "data": {
      "text/plain": [
       "array([43., 93., 52., 98., 62.])"
      ]
     },
     "execution_count": 25,
     "metadata": {},
     "output_type": "execute_result"
    }
   ],
   "source": [
    "np.round(np.random.rand(5) * 100, 0) #Função round serve para arredondar números quebrados, obtendo assim um resultado parecido com o anterior"
   ]
  },
  {
   "cell_type": "code",
   "execution_count": 26,
   "id": "0508b709-66be-49f6-8f08-d3ecc016726b",
   "metadata": {},
   "outputs": [],
   "source": [
    "arr = np.random.rand(25)"
   ]
  },
  {
   "cell_type": "code",
   "execution_count": 27,
   "id": "1d8eb355-9e16-4eb2-9929-006a40c9a759",
   "metadata": {},
   "outputs": [
    {
     "data": {
      "text/plain": [
       "array([0.75356356, 0.95564191, 0.54612177, 0.13134669, 0.10892274,\n",
       "       0.3862829 , 0.56207518, 0.07202096, 0.93315119, 0.3105511 ,\n",
       "       0.3116381 , 0.68479702, 0.72605453, 0.72163181, 0.94774117,\n",
       "       0.65824815, 0.31537036, 0.37925788, 0.37619955, 0.3436538 ,\n",
       "       0.24927313, 0.28683732, 0.35959885, 0.54692966, 0.65310663])"
      ]
     },
     "execution_count": 27,
     "metadata": {},
     "output_type": "execute_result"
    }
   ],
   "source": [
    "arr"
   ]
  },
  {
   "cell_type": "code",
   "execution_count": 28,
   "id": "56478112-b3a8-4683-beb4-eaf7227b4405",
   "metadata": {},
   "outputs": [
    {
     "data": {
      "text/plain": [
       "array([[0.75356356, 0.95564191, 0.54612177, 0.13134669, 0.10892274],\n",
       "       [0.3862829 , 0.56207518, 0.07202096, 0.93315119, 0.3105511 ],\n",
       "       [0.3116381 , 0.68479702, 0.72605453, 0.72163181, 0.94774117],\n",
       "       [0.65824815, 0.31537036, 0.37925788, 0.37619955, 0.3436538 ],\n",
       "       [0.24927313, 0.28683732, 0.35959885, 0.54692966, 0.65310663]])"
      ]
     },
     "execution_count": 28,
     "metadata": {},
     "output_type": "execute_result"
    }
   ],
   "source": [
    "arr.reshape((5,5)) # Reshape serve para ajustar o formato do array, nesse caso transformando uma lista em uma matriz."
   ]
  },
  {
   "cell_type": "code",
   "execution_count": 29,
   "id": "2b2d9d3d-3fce-4d9c-a1e6-8b2977c843be",
   "metadata": {},
   "outputs": [
    {
     "data": {
      "text/plain": [
       "(25,)"
      ]
     },
     "execution_count": 29,
     "metadata": {},
     "output_type": "execute_result"
    }
   ],
   "source": [
    "arr.shape # Mostra o formato atual do array"
   ]
  },
  {
   "cell_type": "code",
   "execution_count": 30,
   "id": "f8e24338-96c2-4b0d-bd71-c4b11a24edc9",
   "metadata": {},
   "outputs": [
    {
     "data": {
      "text/plain": [
       "0.9556419131644996"
      ]
     },
     "execution_count": 30,
     "metadata": {},
     "output_type": "execute_result"
    }
   ],
   "source": [
    "arr.max() # Acha o maior valor do array"
   ]
  },
  {
   "cell_type": "code",
   "execution_count": 31,
   "id": "387fb092-7f50-4484-9985-3a309fa85d93",
   "metadata": {},
   "outputs": [
    {
     "data": {
      "text/plain": [
       "0.07202095784641249"
      ]
     },
     "execution_count": 31,
     "metadata": {},
     "output_type": "execute_result"
    }
   ],
   "source": [
    "arr.min() # Acha o menor valor do array"
   ]
  },
  {
   "cell_type": "code",
   "execution_count": 32,
   "id": "60209059-1ad0-41d3-907d-8c5583158307",
   "metadata": {},
   "outputs": [
    {
     "data": {
      "text/plain": [
       "1"
      ]
     },
     "execution_count": 32,
     "metadata": {},
     "output_type": "execute_result"
    }
   ],
   "source": [
    "arr.argmax() # Acha o index do maior valor"
   ]
  },
  {
   "cell_type": "code",
   "execution_count": 33,
   "id": "2dbf9bc2-d467-453a-b079-642a397ae9a2",
   "metadata": {},
   "outputs": [
    {
     "data": {
      "text/plain": [
       "7"
      ]
     },
     "execution_count": 33,
     "metadata": {},
     "output_type": "execute_result"
    }
   ],
   "source": [
    "arr.argmin() # acha o index do menor valor"
   ]
  },
  {
   "cell_type": "markdown",
   "id": "c123d5cf-93fa-457f-88cd-80215958d7a6",
   "metadata": {},
   "source": [
    "Numpy Indexação"
   ]
  },
  {
   "cell_type": "code",
   "execution_count": 34,
   "id": "38c99480-0158-463a-a562-55f90e52574d",
   "metadata": {},
   "outputs": [],
   "source": [
    "arr = np.arange(0, 30, 3)"
   ]
  },
  {
   "cell_type": "code",
   "execution_count": 35,
   "id": "2061a8f3-81f0-476d-b6c4-f527d376f3ef",
   "metadata": {},
   "outputs": [
    {
     "data": {
      "text/plain": [
       "array([ 0,  3,  6,  9, 12, 15, 18, 21, 24, 27])"
      ]
     },
     "execution_count": 35,
     "metadata": {},
     "output_type": "execute_result"
    }
   ],
   "source": [
    "arr"
   ]
  },
  {
   "cell_type": "code",
   "execution_count": 36,
   "id": "570e5be9-0304-44b7-9ca2-1a04c7d20460",
   "metadata": {},
   "outputs": [
    {
     "data": {
      "text/plain": [
       "9"
      ]
     },
     "execution_count": 36,
     "metadata": {},
     "output_type": "execute_result"
    }
   ],
   "source": [
    "arr[3] # Referencia o valor que está no index 3 (começa em 0)"
   ]
  },
  {
   "cell_type": "code",
   "execution_count": 37,
   "id": "cbf7c620-9bbd-4895-b1a1-a71feb4becc6",
   "metadata": {},
   "outputs": [
    {
     "data": {
      "text/plain": [
       "array([ 6,  9, 12])"
      ]
     },
     "execution_count": 37,
     "metadata": {},
     "output_type": "execute_result"
    }
   ],
   "source": [
    "arr[2:5] # Referencia a lista de elementos entre começando no index 2, e mostra até o index 4 (index 5 não é mostrado)"
   ]
  },
  {
   "cell_type": "code",
   "execution_count": 38,
   "id": "e1ad1a2f-2894-4e48-a6e3-708ca6812031",
   "metadata": {},
   "outputs": [
    {
     "data": {
      "text/plain": [
       "array([ 0,  3,  6,  9, 12])"
      ]
     },
     "execution_count": 38,
     "metadata": {},
     "output_type": "execute_result"
    }
   ],
   "source": [
    "arr[:5] # Do 0 até o 4"
   ]
  },
  {
   "cell_type": "code",
   "execution_count": 39,
   "id": "9305633e-e099-4fe8-81c7-c38de5b6ffbc",
   "metadata": {},
   "outputs": [
    {
     "data": {
      "text/plain": [
       "array([ 6,  9, 12, 15, 18, 21, 24, 27])"
      ]
     },
     "execution_count": 39,
     "metadata": {},
     "output_type": "execute_result"
    }
   ],
   "source": [
    "arr[2:] # Do index 2 até o último"
   ]
  },
  {
   "cell_type": "code",
   "execution_count": 40,
   "id": "1e02a0a5-0b5c-4c41-9465-f1e813b78ff2",
   "metadata": {},
   "outputs": [],
   "source": [
    "arr[2:] = 100 # Alterando o valor de toda a lista de elementos que vai do index 2 até o final"
   ]
  },
  {
   "cell_type": "code",
   "execution_count": 41,
   "id": "d34b1bc5-1d0a-4c3f-948b-1f115bd5effd",
   "metadata": {},
   "outputs": [
    {
     "data": {
      "text/plain": [
       "array([  0,   3, 100, 100, 100, 100, 100, 100, 100, 100])"
      ]
     },
     "execution_count": 41,
     "metadata": {},
     "output_type": "execute_result"
    }
   ],
   "source": [
    "arr"
   ]
  },
  {
   "cell_type": "code",
   "execution_count": 42,
   "id": "0a92a57f-4a5d-4172-8d88-b323f653b086",
   "metadata": {},
   "outputs": [],
   "source": [
    "arr = np.arange(50).reshape((5, 10)) # Criando um array de 0 até 49 e mudando o formato para uma matriz."
   ]
  },
  {
   "cell_type": "code",
   "execution_count": 43,
   "id": "78edcee4-f1fe-4ff6-bde4-d7c27e2faf48",
   "metadata": {},
   "outputs": [
    {
     "data": {
      "text/plain": [
       "array([[ 0,  1,  2,  3,  4,  5,  6,  7,  8,  9],\n",
       "       [10, 11, 12, 13, 14, 15, 16, 17, 18, 19],\n",
       "       [20, 21, 22, 23, 24, 25, 26, 27, 28, 29],\n",
       "       [30, 31, 32, 33, 34, 35, 36, 37, 38, 39],\n",
       "       [40, 41, 42, 43, 44, 45, 46, 47, 48, 49]])"
      ]
     },
     "execution_count": 43,
     "metadata": {},
     "output_type": "execute_result"
    }
   ],
   "source": [
    "arr"
   ]
  },
  {
   "cell_type": "code",
   "execution_count": 44,
   "id": "936c995d-a164-4c29-9dc8-2ffe74878357",
   "metadata": {},
   "outputs": [
    {
     "data": {
      "text/plain": [
       "(5, 10)"
      ]
     },
     "execution_count": 44,
     "metadata": {},
     "output_type": "execute_result"
    }
   ],
   "source": [
    "arr.shape # Pegando o formato"
   ]
  },
  {
   "cell_type": "code",
   "execution_count": 45,
   "id": "a9a3ab4a-ffd6-4bbd-b4c2-8f7c615d86ca",
   "metadata": {},
   "outputs": [
    {
     "data": {
      "text/plain": [
       "array([[10, 11, 12, 13, 14, 15, 16, 17, 18, 19],\n",
       "       [20, 21, 22, 23, 24, 25, 26, 27, 28, 29],\n",
       "       [30, 31, 32, 33, 34, 35, 36, 37, 38, 39],\n",
       "       [40, 41, 42, 43, 44, 45, 46, 47, 48, 49]])"
      ]
     },
     "execution_count": 45,
     "metadata": {},
     "output_type": "execute_result"
    }
   ],
   "source": [
    "arr[1:][:] # Pegando um pedaço da matriz (linha de index 1 até o final, todas as colunas)"
   ]
  },
  {
   "cell_type": "code",
   "execution_count": 46,
   "id": "b74ef952-5061-464a-b523-c1356b9915af",
   "metadata": {},
   "outputs": [],
   "source": [
    "arr2 = arr[:3].copy() # Usando a função para copiar uma parte do outro array (Por padrão ele apenas referencia como um ponteiro invés de \n",
    "# fazer uma cópia)"
   ]
  },
  {
   "cell_type": "code",
   "execution_count": 47,
   "id": "2a21fb21-312a-418b-ac5e-2a6674878838",
   "metadata": {},
   "outputs": [
    {
     "data": {
      "text/plain": [
       "array([[ 0,  1,  2,  3,  4,  5,  6,  7,  8,  9],\n",
       "       [10, 11, 12, 13, 14, 15, 16, 17, 18, 19],\n",
       "       [20, 21, 22, 23, 24, 25, 26, 27, 28, 29]])"
      ]
     },
     "execution_count": 47,
     "metadata": {},
     "output_type": "execute_result"
    }
   ],
   "source": [
    "arr2"
   ]
  },
  {
   "cell_type": "code",
   "execution_count": 48,
   "id": "aef51a2e-6374-4b44-a0fd-c85fecde95f2",
   "metadata": {},
   "outputs": [],
   "source": [
    "arr2[:] = 10 # Definindo todos os valores do array como 10"
   ]
  },
  {
   "cell_type": "code",
   "execution_count": 49,
   "id": "1784499a-9656-4691-b367-d9a489dafcf7",
   "metadata": {},
   "outputs": [
    {
     "data": {
      "text/plain": [
       "array([[15, 16, 17, 18, 19],\n",
       "       [25, 26, 27, 28, 29],\n",
       "       [35, 36, 37, 38, 39]])"
      ]
     },
     "execution_count": 49,
     "metadata": {},
     "output_type": "execute_result"
    }
   ],
   "source": [
    "arr[1:4,5:] # Outra forma de puxar uma parte da matriz, agora com uma vírgula fazendo a separação invés de 2 conchetes diferentes"
   ]
  },
  {
   "cell_type": "code",
   "execution_count": 50,
   "id": "3ca6c69b-eba7-44b1-aac1-1dd40cebf619",
   "metadata": {},
   "outputs": [],
   "source": [
    "bol = arr > 30 # Criando uma matriz com valores de verdadeiro ou falso para caso a condição seja satisfeita para o número da posição"
   ]
  },
  {
   "cell_type": "code",
   "execution_count": 51,
   "id": "57bcfd8d-29fd-4f3e-a35c-bf33d3ef44f4",
   "metadata": {},
   "outputs": [
    {
     "data": {
      "text/plain": [
       "array([[False, False, False, False, False, False, False, False, False,\n",
       "        False],\n",
       "       [False, False, False, False, False, False, False, False, False,\n",
       "        False],\n",
       "       [False, False, False, False, False, False, False, False, False,\n",
       "        False],\n",
       "       [False,  True,  True,  True,  True,  True,  True,  True,  True,\n",
       "         True],\n",
       "       [ True,  True,  True,  True,  True,  True,  True,  True,  True,\n",
       "         True]])"
      ]
     },
     "execution_count": 51,
     "metadata": {},
     "output_type": "execute_result"
    }
   ],
   "source": [
    "bol"
   ]
  },
  {
   "cell_type": "code",
   "execution_count": 52,
   "id": "d2e10f48-b453-4a04-bd70-539b2cf6cf44",
   "metadata": {},
   "outputs": [
    {
     "data": {
      "text/plain": [
       "array([31, 32, 33, 34, 35, 36, 37, 38, 39, 40, 41, 42, 43, 44, 45, 46, 47,\n",
       "       48, 49])"
      ]
     },
     "execution_count": 52,
     "metadata": {},
     "output_type": "execute_result"
    }
   ],
   "source": [
    "arr[bol] # Recriando o array, mas agora apenas com os valores que eram verdadeiros (só funciona se as duas matrizes tiverem o mesmo tamanho)"
   ]
  },
  {
   "cell_type": "markdown",
   "id": "01aab9e9-f44d-4a76-94a2-b48d605d62d7",
   "metadata": {},
   "source": [
    "Numpy operações"
   ]
  },
  {
   "cell_type": "code",
   "execution_count": 53,
   "id": "11de41e5-84c2-4dfd-b29b-f2e3d667247b",
   "metadata": {},
   "outputs": [],
   "source": [
    "arr = np.arange(0, 16)"
   ]
  },
  {
   "cell_type": "code",
   "execution_count": 54,
   "id": "44a1d9a8-5c35-460c-8b4b-c54a8fc04f19",
   "metadata": {},
   "outputs": [
    {
     "data": {
      "text/plain": [
       "array([ 0,  1,  2,  3,  4,  5,  6,  7,  8,  9, 10, 11, 12, 13, 14, 15])"
      ]
     },
     "execution_count": 54,
     "metadata": {},
     "output_type": "execute_result"
    }
   ],
   "source": [
    "arr"
   ]
  },
  {
   "cell_type": "code",
   "execution_count": 55,
   "id": "bf685c45-24a4-47d0-b934-ab00c27452f5",
   "metadata": {},
   "outputs": [
    {
     "data": {
      "text/plain": [
       "array([ 0,  2,  4,  6,  8, 10, 12, 14, 16, 18, 20, 22, 24, 26, 28, 30])"
      ]
     },
     "execution_count": 55,
     "metadata": {},
     "output_type": "execute_result"
    }
   ],
   "source": [
    "arr + arr # Soma de arrays, soma elemento por elemento"
   ]
  },
  {
   "cell_type": "code",
   "execution_count": 56,
   "id": "a07d7d1c-90fc-4ca4-aba7-c1e969b648d2",
   "metadata": {},
   "outputs": [
    {
     "data": {
      "text/plain": [
       "array([0, 0, 0, 0, 0, 0, 0, 0, 0, 0, 0, 0, 0, 0, 0, 0])"
      ]
     },
     "execution_count": 56,
     "metadata": {},
     "output_type": "execute_result"
    }
   ],
   "source": [
    "arr - arr # Mesma coisa, mas agora com subtração"
   ]
  },
  {
   "cell_type": "code",
   "execution_count": 57,
   "id": "0d594454-1002-48c9-be49-7dae4c0960e3",
   "metadata": {},
   "outputs": [
    {
     "data": {
      "text/plain": [
       "array([  0,   1,   4,   9,  16,  25,  36,  49,  64,  81, 100, 121, 144,\n",
       "       169, 196, 225])"
      ]
     },
     "execution_count": 57,
     "metadata": {},
     "output_type": "execute_result"
    }
   ],
   "source": [
    "arr * arr # Mesma coisa com a multiplicação."
   ]
  },
  {
   "cell_type": "code",
   "execution_count": 58,
   "id": "9b45acf1-b06e-425b-8e9c-c32ee0141e12",
   "metadata": {},
   "outputs": [
    {
     "name": "stderr",
     "output_type": "stream",
     "text": [
      "/tmp/ipykernel_144522/3001117470.py:1: RuntimeWarning: invalid value encountered in divide\n",
      "  arr / arr\n"
     ]
    },
    {
     "data": {
      "text/plain": [
       "array([nan,  1.,  1.,  1.,  1.,  1.,  1.,  1.,  1.,  1.,  1.,  1.,  1.,\n",
       "        1.,  1.,  1.])"
      ]
     },
     "execution_count": 58,
     "metadata": {},
     "output_type": "execute_result"
    }
   ],
   "source": [
    "arr / arr # Mesma coisa com a divisão, o único motivo de estar aparecendo um erro é por causa da tentiva de fazer uma divisão por 0"
   ]
  },
  {
   "cell_type": "code",
   "execution_count": 59,
   "id": "027482ae-5cd6-469f-baf4-6959c06109f3",
   "metadata": {},
   "outputs": [
    {
     "data": {
      "text/plain": [
       "array([  0,   1,   4,   9,  16,  25,  36,  49,  64,  81, 100, 121, 144,\n",
       "       169, 196, 225])"
      ]
     },
     "execution_count": 59,
     "metadata": {},
     "output_type": "execute_result"
    }
   ],
   "source": [
    "arr ** 2 # Pontenciação para cada elemento (eleva cada elemento ao quadrado)"
   ]
  },
  {
   "cell_type": "code",
   "execution_count": 60,
   "id": "846107ab-0f62-455f-98a2-6ee2f5275f7f",
   "metadata": {},
   "outputs": [
    {
     "data": {
      "text/plain": [
       "array([100, 101, 102, 103, 104, 105, 106, 107, 108, 109, 110, 111, 112,\n",
       "       113, 114, 115])"
      ]
     },
     "execution_count": 60,
     "metadata": {},
     "output_type": "execute_result"
    }
   ],
   "source": [
    "arr + 100 # Soma escalar (soma cada elemento o valor passado)"
   ]
  },
  {
   "cell_type": "code",
   "execution_count": 61,
   "id": "79fc854e-a2f8-4433-b672-776c21fd84ba",
   "metadata": {},
   "outputs": [
    {
     "data": {
      "text/plain": [
       "array([-100,  -99,  -98,  -97,  -96,  -95,  -94,  -93,  -92,  -91,  -90,\n",
       "        -89,  -88,  -87,  -86,  -85])"
      ]
     },
     "execution_count": 61,
     "metadata": {},
     "output_type": "execute_result"
    }
   ],
   "source": [
    "arr - 100 # Subtração escalar"
   ]
  },
  {
   "cell_type": "code",
   "execution_count": 62,
   "id": "cb53ca1d-40f4-47cf-bfe4-2cfbe2459fbe",
   "metadata": {},
   "outputs": [
    {
     "data": {
      "text/plain": [
       "array([   0,  100,  200,  300,  400,  500,  600,  700,  800,  900, 1000,\n",
       "       1100, 1200, 1300, 1400, 1500])"
      ]
     },
     "execution_count": 62,
     "metadata": {},
     "output_type": "execute_result"
    }
   ],
   "source": [
    "arr * 100 # Multiplicação escalar"
   ]
  },
  {
   "cell_type": "code",
   "execution_count": 63,
   "id": "4654b88d-3dc2-45ad-b522-82fe3fecb96c",
   "metadata": {},
   "outputs": [
    {
     "data": {
      "text/plain": [
       "array([0.        , 1.        , 1.41421356, 1.73205081, 2.        ,\n",
       "       2.23606798, 2.44948974, 2.64575131, 2.82842712, 3.        ,\n",
       "       3.16227766, 3.31662479, 3.46410162, 3.60555128, 3.74165739,\n",
       "       3.87298335])"
      ]
     },
     "execution_count": 63,
     "metadata": {},
     "output_type": "execute_result"
    }
   ],
   "source": [
    "np.sqrt(arr) # Calcula a raiz quadrada de cada um dos elementos."
   ]
  },
  {
   "cell_type": "code",
   "execution_count": 64,
   "id": "6b85e2f0-8b97-4439-9809-cd47cee13353",
   "metadata": {},
   "outputs": [
    {
     "data": {
      "text/plain": [
       "array([1.00000000e+00, 2.71828183e+00, 7.38905610e+00, 2.00855369e+01,\n",
       "       5.45981500e+01, 1.48413159e+02, 4.03428793e+02, 1.09663316e+03,\n",
       "       2.98095799e+03, 8.10308393e+03, 2.20264658e+04, 5.98741417e+04,\n",
       "       1.62754791e+05, 4.42413392e+05, 1.20260428e+06, 3.26901737e+06])"
      ]
     },
     "execution_count": 64,
     "metadata": {},
     "output_type": "execute_result"
    }
   ],
   "source": [
    "np.exp(arr) # Calcula o valor exponencial de cada elemento"
   ]
  },
  {
   "cell_type": "code",
   "execution_count": 65,
   "id": "456dc75c-b4b4-4d49-b554-9ccfc4353d30",
   "metadata": {},
   "outputs": [
    {
     "data": {
      "text/plain": [
       "7.5"
      ]
     },
     "execution_count": 65,
     "metadata": {},
     "output_type": "execute_result"
    }
   ],
   "source": [
    "np.mean(arr) # Calcula a média de todos os elementos do array"
   ]
  },
  {
   "cell_type": "code",
   "execution_count": 66,
   "id": "ef497e68-c7e3-43d6-90f8-3fc9f2524b4d",
   "metadata": {},
   "outputs": [
    {
     "data": {
      "text/plain": [
       "4.6097722286464435"
      ]
     },
     "execution_count": 66,
     "metadata": {},
     "output_type": "execute_result"
    }
   ],
   "source": [
    "np.std(arr) # Calcula o desvio padrão do array"
   ]
  },
  {
   "cell_type": "code",
   "execution_count": 67,
   "id": "a3f221b8-673e-4f68-8a07-c0b221092985",
   "metadata": {},
   "outputs": [
    {
     "data": {
      "text/plain": [
       "array([ 0.        ,  0.84147098,  0.90929743,  0.14112001, -0.7568025 ,\n",
       "       -0.95892427, -0.2794155 ,  0.6569866 ,  0.98935825,  0.41211849,\n",
       "       -0.54402111, -0.99999021, -0.53657292,  0.42016704,  0.99060736,\n",
       "        0.65028784])"
      ]
     },
     "execution_count": 67,
     "metadata": {},
     "output_type": "execute_result"
    }
   ],
   "source": [
    "np.sin(arr) # Calcula o seno de cada um dos elementos"
   ]
  },
  {
   "cell_type": "code",
   "execution_count": 68,
   "id": "0cd9328c-cc0f-4e30-9ac4-9c912516e0c6",
   "metadata": {},
   "outputs": [
    {
     "data": {
      "text/plain": [
       "15"
      ]
     },
     "execution_count": 68,
     "metadata": {},
     "output_type": "execute_result"
    }
   ],
   "source": [
    "np.max(arr) # Acha o maior elemento do array"
   ]
  },
  {
   "cell_type": "code",
   "execution_count": 69,
   "id": "8917beae-37f4-4998-b5b2-f8bd9e30d58c",
   "metadata": {},
   "outputs": [
    {
     "data": {
      "text/plain": [
       "0"
      ]
     },
     "execution_count": 69,
     "metadata": {},
     "output_type": "execute_result"
    }
   ],
   "source": [
    "np.min(arr) # Acha o menor elemento"
   ]
  },
  {
   "cell_type": "code",
   "execution_count": 70,
   "id": "d8d71278-1ca0-479e-86fc-ed95b2600bae",
   "metadata": {},
   "outputs": [
    {
     "data": {
      "text/plain": [
       "15"
      ]
     },
     "execution_count": 70,
     "metadata": {},
     "output_type": "execute_result"
    }
   ],
   "source": [
    "arr.max() # Também acha o maior elemento, mas agora como uma propriedade do array e não como uma função numpy"
   ]
  },
  {
   "cell_type": "code",
   "execution_count": 71,
   "id": "18d25a1a-ce80-4850-af8f-7f23d93684b0",
   "metadata": {},
   "outputs": [
    {
     "data": {
      "text/plain": [
       "0"
      ]
     },
     "execution_count": 71,
     "metadata": {},
     "output_type": "execute_result"
    }
   ],
   "source": [
    "arr.min()# Também acha o menor elemento, mas agora como uma propriedade do array e não como uma função numpy"
   ]
  }
 ],
 "metadata": {
  "kernelspec": {
   "display_name": "Python 3 (ipykernel)",
   "language": "python",
   "name": "python3"
  },
  "language_info": {
   "codemirror_mode": {
    "name": "ipython",
    "version": 3
   },
   "file_extension": ".py",
   "mimetype": "text/x-python",
   "name": "python",
   "nbconvert_exporter": "python",
   "pygments_lexer": "ipython3",
   "version": "3.12.7"
  }
 },
 "nbformat": 4,
 "nbformat_minor": 5
}
