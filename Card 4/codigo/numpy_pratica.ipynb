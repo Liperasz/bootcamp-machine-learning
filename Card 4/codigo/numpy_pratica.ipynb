{
 "cells": [
  {
   "cell_type": "code",
   "execution_count": 1,
   "id": "22aa2190-8b6d-4b48-972d-37a9789a9fa3",
   "metadata": {},
   "outputs": [],
   "source": [
    "import numpy as np"
   ]
  },
  {
   "cell_type": "code",
   "execution_count": 2,
   "id": "cfa16571-f532-423f-a006-fba0f21c7c8b",
   "metadata": {},
   "outputs": [
    {
     "data": {
      "text/plain": [
       "array([0., 0., 0., 0., 0.])"
      ]
     },
     "execution_count": 2,
     "metadata": {},
     "output_type": "execute_result"
    }
   ],
   "source": [
    "# Criando um array de zeros\n",
    "array = np.zeros(5)\n",
    "array"
   ]
  },
  {
   "cell_type": "code",
   "execution_count": 3,
   "id": "88c51a4c-164f-4953-a9af-1d40dfb5d770",
   "metadata": {},
   "outputs": [
    {
     "data": {
      "text/plain": [
       "array([[1., 1., 1., 1., 1., 1., 1., 1., 1., 1.],\n",
       "       [1., 1., 1., 1., 1., 1., 1., 1., 1., 1.],\n",
       "       [1., 1., 1., 1., 1., 1., 1., 1., 1., 1.],\n",
       "       [1., 1., 1., 1., 1., 1., 1., 1., 1., 1.],\n",
       "       [1., 1., 1., 1., 1., 1., 1., 1., 1., 1.]])"
      ]
     },
     "execution_count": 3,
     "metadata": {},
     "output_type": "execute_result"
    }
   ],
   "source": [
    "# Criando uma matriz de uns\n",
    "array = np.ones([5, 10])\n",
    "array"
   ]
  },
  {
   "cell_type": "code",
   "execution_count": 4,
   "id": "6a105eda-593b-4604-8648-4efaf9d4acfd",
   "metadata": {},
   "outputs": [
    {
     "data": {
      "text/plain": [
       "array([  0,  10,  20,  30,  40,  50,  60,  70,  80,  90, 100])"
      ]
     },
     "execution_count": 4,
     "metadata": {},
     "output_type": "execute_result"
    }
   ],
   "source": [
    "# Criando um array de 0 até 100 com passo de 10 em 10\n",
    "array = np.arange(0, 101, 10)\n",
    "array"
   ]
  },
  {
   "cell_type": "code",
   "execution_count": 5,
   "id": "8dc43782-e727-495b-8f9b-fba1e8cefe2a",
   "metadata": {},
   "outputs": [
    {
     "data": {
      "text/plain": [
       "array([[1., 0., 0., 0., 0.],\n",
       "       [0., 1., 0., 0., 0.],\n",
       "       [0., 0., 1., 0., 0.],\n",
       "       [0., 0., 0., 1., 0.],\n",
       "       [0., 0., 0., 0., 1.]])"
      ]
     },
     "execution_count": 5,
     "metadata": {},
     "output_type": "execute_result"
    }
   ],
   "source": [
    "# Criando uma matriz identidade\n",
    "array = np.eye(5)\n",
    "array"
   ]
  },
  {
   "cell_type": "code",
   "execution_count": 6,
   "id": "f8e5cbca-a891-4e10-8757-025c73b0c39b",
   "metadata": {},
   "outputs": [
    {
     "data": {
      "text/plain": [
       "array([[5., 0., 0., 0., 0.],\n",
       "       [0., 5., 0., 0., 0.],\n",
       "       [0., 0., 5., 0., 0.],\n",
       "       [0., 0., 0., 5., 0.],\n",
       "       [0., 0., 0., 0., 5.]])"
      ]
     },
     "execution_count": 6,
     "metadata": {},
     "output_type": "execute_result"
    }
   ],
   "source": [
    "array * 5"
   ]
  },
  {
   "cell_type": "code",
   "execution_count": 7,
   "id": "3b2944aa-4cba-4a2c-b577-68a116542dbc",
   "metadata": {},
   "outputs": [
    {
     "data": {
      "text/plain": [
       "array([  0.        ,   2.04081633,   4.08163265,   6.12244898,\n",
       "         8.16326531,  10.20408163,  12.24489796,  14.28571429,\n",
       "        16.32653061,  18.36734694,  20.40816327,  22.44897959,\n",
       "        24.48979592,  26.53061224,  28.57142857,  30.6122449 ,\n",
       "        32.65306122,  34.69387755,  36.73469388,  38.7755102 ,\n",
       "        40.81632653,  42.85714286,  44.89795918,  46.93877551,\n",
       "        48.97959184,  51.02040816,  53.06122449,  55.10204082,\n",
       "        57.14285714,  59.18367347,  61.2244898 ,  63.26530612,\n",
       "        65.30612245,  67.34693878,  69.3877551 ,  71.42857143,\n",
       "        73.46938776,  75.51020408,  77.55102041,  79.59183673,\n",
       "        81.63265306,  83.67346939,  85.71428571,  87.75510204,\n",
       "        89.79591837,  91.83673469,  93.87755102,  95.91836735,\n",
       "        97.95918367, 100.        ])"
      ]
     },
     "execution_count": 7,
     "metadata": {},
     "output_type": "execute_result"
    }
   ],
   "source": [
    "# Criando uma matriz com os valores tendo a mesma distancia entre si\n",
    "array = np.linspace(0, 100, 50)\n",
    "array"
   ]
  },
  {
   "cell_type": "code",
   "execution_count": 8,
   "id": "10874698-db74-48aa-8268-ceb069e0b5c3",
   "metadata": {},
   "outputs": [],
   "source": [
    "# Arredondando os valores e transformando em uma matriz\n",
    "array = array.round()"
   ]
  },
  {
   "cell_type": "code",
   "execution_count": 9,
   "id": "9378ab3d-55a6-4598-92ee-feb8990ef86e",
   "metadata": {},
   "outputs": [
    {
     "data": {
      "text/plain": [
       "array([[  0.,   2.,   4.,   6.,   8.],\n",
       "       [ 10.,  12.,  14.,  16.,  18.],\n",
       "       [ 20.,  22.,  24.,  27.,  29.],\n",
       "       [ 31.,  33.,  35.,  37.,  39.],\n",
       "       [ 41.,  43.,  45.,  47.,  49.],\n",
       "       [ 51.,  53.,  55.,  57.,  59.],\n",
       "       [ 61.,  63.,  65.,  67.,  69.],\n",
       "       [ 71.,  73.,  76.,  78.,  80.],\n",
       "       [ 82.,  84.,  86.,  88.,  90.],\n",
       "       [ 92.,  94.,  96.,  98., 100.]])"
      ]
     },
     "execution_count": 9,
     "metadata": {},
     "output_type": "execute_result"
    }
   ],
   "source": [
    "array = array.reshape(10, 5)\n",
    "array"
   ]
  },
  {
   "cell_type": "code",
   "execution_count": 10,
   "id": "13a4cc45-2a7b-43ee-b38e-ca6465c1f6c2",
   "metadata": {},
   "outputs": [
    {
     "data": {
      "text/plain": [
       "(10, 5)"
      ]
     },
     "execution_count": 10,
     "metadata": {},
     "output_type": "execute_result"
    }
   ],
   "source": [
    "#Verificando o tamanho\n",
    "array.shape"
   ]
  },
  {
   "cell_type": "code",
   "execution_count": 11,
   "id": "56237b63-5470-40c7-a99d-9391bd416449",
   "metadata": {},
   "outputs": [
    {
     "data": {
      "text/plain": [
       "100.0"
      ]
     },
     "execution_count": 11,
     "metadata": {},
     "output_type": "execute_result"
    }
   ],
   "source": [
    "#verificando qual o maior valor\n",
    "array.max()"
   ]
  },
  {
   "cell_type": "code",
   "execution_count": 12,
   "id": "115ac81c-bf0d-4030-9f01-82ce0a214067",
   "metadata": {},
   "outputs": [
    {
     "data": {
      "text/plain": [
       "array([[ True,  True,  True,  True,  True],\n",
       "       [ True,  True,  True,  True,  True],\n",
       "       [ True,  True,  True, False, False],\n",
       "       [False, False, False, False, False],\n",
       "       [False, False, False, False, False],\n",
       "       [False, False, False, False, False],\n",
       "       [False, False, False, False, False],\n",
       "       [False, False,  True,  True,  True],\n",
       "       [ True,  True,  True,  True,  True],\n",
       "       [ True,  True,  True,  True,  True]])"
      ]
     },
     "execution_count": 12,
     "metadata": {},
     "output_type": "execute_result"
    }
   ],
   "source": [
    "# Criando uma array apenas com os valores pares através de uma matriz de boolean\n",
    "bol = array % 2 == 0\n",
    "bol"
   ]
  },
  {
   "cell_type": "code",
   "execution_count": 13,
   "id": "2c835b7e-1791-4b9a-a6b2-6e9130522b9b",
   "metadata": {},
   "outputs": [
    {
     "data": {
      "text/plain": [
       "array([  0.,   2.,   4.,   6.,   8.,  10.,  12.,  14.,  16.,  18.,  20.,\n",
       "        22.,  24.,  76.,  78.,  80.,  82.,  84.,  86.,  88.,  90.,  92.,\n",
       "        94.,  96.,  98., 100.])"
      ]
     },
     "execution_count": 13,
     "metadata": {},
     "output_type": "execute_result"
    }
   ],
   "source": [
    "array = array[bol]\n",
    "array"
   ]
  },
  {
   "cell_type": "code",
   "execution_count": 14,
   "id": "649c828d-6325-49e7-9770-2dcb67876ef0",
   "metadata": {},
   "outputs": [
    {
     "data": {
      "text/plain": [
       "26"
      ]
     },
     "execution_count": 14,
     "metadata": {},
     "output_type": "execute_result"
    }
   ],
   "source": [
    "# Contando a quantidade de elementos\n",
    "len(array)"
   ]
  },
  {
   "cell_type": "code",
   "execution_count": 15,
   "id": "5f9ee194-2192-4903-8586-e1d425c2178b",
   "metadata": {},
   "outputs": [
    {
     "data": {
      "text/plain": [
       "array([[  0.,   2.,   4.,   6.,   8.,  10.,  12.,  14.,  16.,  18.,  20.,\n",
       "         22.,  24.],\n",
       "       [ 76.,  78.,  80.,  82.,  84.,  86.,  88.,  90.,  92.,  94.,  96.,\n",
       "         98., 100.]])"
      ]
     },
     "execution_count": 15,
     "metadata": {},
     "output_type": "execute_result"
    }
   ],
   "source": [
    "#Transoformando em matriz novamente\n",
    "array = array.reshape(2, 13)\n",
    "array"
   ]
  },
  {
   "cell_type": "code",
   "execution_count": 16,
   "id": "f8550825-6fc0-42d1-8e5b-9a204a154fb5",
   "metadata": {},
   "outputs": [
    {
     "data": {
      "text/plain": [
       "array([[ 0.        ,  1.41421356,  2.        ,  2.44948974,  2.82842712,\n",
       "         3.16227766,  3.46410162,  3.74165739,  4.        ,  4.24264069,\n",
       "         4.47213595,  4.69041576,  4.89897949],\n",
       "       [ 8.71779789,  8.83176087,  8.94427191,  9.05538514,  9.16515139,\n",
       "         9.2736185 ,  9.38083152,  9.48683298,  9.59166305,  9.69535971,\n",
       "         9.79795897,  9.89949494, 10.        ]])"
      ]
     },
     "execution_count": 16,
     "metadata": {},
     "output_type": "execute_result"
    }
   ],
   "source": [
    "# Pegando uma matriz com a raiz quadrada de cada um dos valores\n",
    "np.sqrt(array)"
   ]
  },
  {
   "cell_type": "code",
   "execution_count": 17,
   "id": "4110494e-dd7a-4d4f-99e4-1e95d537f32b",
   "metadata": {},
   "outputs": [
    {
     "data": {
      "text/plain": [
       "array([-76., -76., -76., -76., -76., -76., -76., -76., -76., -76., -76.,\n",
       "       -76., -76.])"
      ]
     },
     "execution_count": 17,
     "metadata": {},
     "output_type": "execute_result"
    }
   ],
   "source": [
    "#fazendo operação da matriz com ela mesma\n",
    "result = array[0] - array[1]\n",
    "result"
   ]
  },
  {
   "cell_type": "code",
   "execution_count": 18,
   "id": "9a24e763-a02b-4109-b25d-5eca5978781e",
   "metadata": {},
   "outputs": [
    {
     "data": {
      "text/plain": [
       "array([[-11,  14, -13,  -7,  -5,  -2,  -3,  -4, -14,   5,  10,  -4, -11],\n",
       "       [ -8, -12,  -9,   4,   9,  12, -12,   7, -10,   2, -15,   5,  14]])"
      ]
     },
     "execution_count": 18,
     "metadata": {},
     "output_type": "execute_result"
    }
   ],
   "source": [
    "# Criando uma matriz com elementos aleatórios\n",
    "al = np.random.randint(-15, 15, size=(2, 13))\n",
    "al"
   ]
  },
  {
   "cell_type": "code",
   "execution_count": 19,
   "id": "0a57462e-bb2b-46f5-9cbf-cf0ba1ea0512",
   "metadata": {},
   "outputs": [
    {
     "data": {
      "text/plain": [
       "array([[-11.,  16.,  -9.,  -1.,   3.,   8.,   9.,  10.,   2.,  23.,  30.,\n",
       "         18.,  13.],\n",
       "       [ 68.,  66.,  71.,  86.,  93.,  98.,  76.,  97.,  82.,  96.,  81.,\n",
       "        103., 114.]])"
      ]
     },
     "execution_count": 19,
     "metadata": {},
     "output_type": "execute_result"
    }
   ],
   "source": [
    "resultado = array + al\n",
    "resultado"
   ]
  },
  {
   "cell_type": "code",
   "execution_count": 20,
   "id": "7a7ef701-400e-434b-823a-ad42e39dc32a",
   "metadata": {},
   "outputs": [
    {
     "data": {
      "text/plain": [
       "47.76923076923077"
      ]
     },
     "execution_count": 20,
     "metadata": {},
     "output_type": "execute_result"
    }
   ],
   "source": [
    "# Calculando a média desses valores\n",
    "resultado.mean()"
   ]
  },
  {
   "cell_type": "code",
   "execution_count": 21,
   "id": "490f8c03-8fbf-4b7d-925f-ff4c47256a21",
   "metadata": {},
   "outputs": [
    {
     "data": {
      "text/plain": [
       "41.26397916259847"
      ]
     },
     "execution_count": 21,
     "metadata": {},
     "output_type": "execute_result"
    }
   ],
   "source": [
    "# Calculando o desvio padrão dos elementos\n",
    "resultado.std()"
   ]
  },
  {
   "cell_type": "code",
   "execution_count": null,
   "id": "12d7ec20-c8f1-4380-89d8-9d4f0d2bdfd5",
   "metadata": {},
   "outputs": [],
   "source": []
  }
 ],
 "metadata": {
  "kernelspec": {
   "display_name": "Python 3 (ipykernel)",
   "language": "python",
   "name": "python3"
  },
  "language_info": {
   "codemirror_mode": {
    "name": "ipython",
    "version": 3
   },
   "file_extension": ".py",
   "mimetype": "text/x-python",
   "name": "python",
   "nbconvert_exporter": "python",
   "pygments_lexer": "ipython3",
   "version": "3.12.7"
  }
 },
 "nbformat": 4,
 "nbformat_minor": 5
}
