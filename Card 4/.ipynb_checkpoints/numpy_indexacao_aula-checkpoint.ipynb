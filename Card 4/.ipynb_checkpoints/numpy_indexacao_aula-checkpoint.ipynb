{
 "cells": [
  {
   "cell_type": "code",
   "execution_count": 1,
   "id": "be20dec2-c684-4f67-8531-1caa2f1d35e2",
   "metadata": {},
   "outputs": [],
   "source": [
    "import numpy as np"
   ]
  },
  {
   "cell_type": "code",
   "execution_count": 2,
   "id": "77a67e1c-86ce-4d31-8447-a03f6162215c",
   "metadata": {},
   "outputs": [],
   "source": [
    "arr = np.arange(0, 30, 3)"
   ]
  },
  {
   "cell_type": "code",
   "execution_count": 3,
   "id": "31b400e5-9839-4720-a210-635443babc72",
   "metadata": {},
   "outputs": [
    {
     "data": {
      "text/plain": [
       "array([ 0,  3,  6,  9, 12, 15, 18, 21, 24, 27])"
      ]
     },
     "execution_count": 3,
     "metadata": {},
     "output_type": "execute_result"
    }
   ],
   "source": [
    "arr"
   ]
  },
  {
   "cell_type": "code",
   "execution_count": 4,
   "id": "725ca55a-a27b-4d60-a681-72bf8efc7cf6",
   "metadata": {},
   "outputs": [
    {
     "data": {
      "text/plain": [
       "9"
      ]
     },
     "execution_count": 4,
     "metadata": {},
     "output_type": "execute_result"
    }
   ],
   "source": [
    "arr[3]"
   ]
  },
  {
   "cell_type": "code",
   "execution_count": 5,
   "id": "00afd48a-dbd0-49bb-9eb1-ce0ebc2152ba",
   "metadata": {},
   "outputs": [
    {
     "data": {
      "text/plain": [
       "array([ 6,  9, 12])"
      ]
     },
     "execution_count": 5,
     "metadata": {},
     "output_type": "execute_result"
    }
   ],
   "source": [
    "arr[2:5]"
   ]
  },
  {
   "cell_type": "code",
   "execution_count": 6,
   "id": "4edefc69-04fa-4968-9c37-df370cca21ba",
   "metadata": {},
   "outputs": [
    {
     "data": {
      "text/plain": [
       "array([ 0,  3,  6,  9, 12])"
      ]
     },
     "execution_count": 6,
     "metadata": {},
     "output_type": "execute_result"
    }
   ],
   "source": [
    "arr[:5]"
   ]
  },
  {
   "cell_type": "code",
   "execution_count": 7,
   "id": "bda42eb4-bfe6-4cdd-a0c9-24bc68429754",
   "metadata": {},
   "outputs": [
    {
     "data": {
      "text/plain": [
       "array([ 6,  9, 12, 15, 18, 21, 24, 27])"
      ]
     },
     "execution_count": 7,
     "metadata": {},
     "output_type": "execute_result"
    }
   ],
   "source": [
    "arr[2:]"
   ]
  },
  {
   "cell_type": "code",
   "execution_count": 8,
   "id": "f51c99e6-d4a9-41f0-8194-7dfa3924f145",
   "metadata": {},
   "outputs": [],
   "source": [
    "arr[2:] = 100"
   ]
  },
  {
   "cell_type": "code",
   "execution_count": 9,
   "id": "c8d47418-8345-426d-842e-20865b6776b3",
   "metadata": {},
   "outputs": [
    {
     "data": {
      "text/plain": [
       "array([  0,   3, 100, 100, 100, 100, 100, 100, 100, 100])"
      ]
     },
     "execution_count": 9,
     "metadata": {},
     "output_type": "execute_result"
    }
   ],
   "source": [
    "arr"
   ]
  },
  {
   "cell_type": "code",
   "execution_count": 10,
   "id": "ebd7d7cc-ddbf-49e8-a1a4-e369587a2bcf",
   "metadata": {},
   "outputs": [],
   "source": [
    "arr = np.arange(50).reshape((5, 10))"
   ]
  },
  {
   "cell_type": "code",
   "execution_count": 11,
   "id": "3dafba29-f86c-43bf-a1da-2b5fa72361c7",
   "metadata": {},
   "outputs": [
    {
     "data": {
      "text/plain": [
       "array([[ 0,  1,  2,  3,  4,  5,  6,  7,  8,  9],\n",
       "       [10, 11, 12, 13, 14, 15, 16, 17, 18, 19],\n",
       "       [20, 21, 22, 23, 24, 25, 26, 27, 28, 29],\n",
       "       [30, 31, 32, 33, 34, 35, 36, 37, 38, 39],\n",
       "       [40, 41, 42, 43, 44, 45, 46, 47, 48, 49]])"
      ]
     },
     "execution_count": 11,
     "metadata": {},
     "output_type": "execute_result"
    }
   ],
   "source": [
    "arr"
   ]
  },
  {
   "cell_type": "code",
   "execution_count": 12,
   "id": "489dad5a-00c7-4298-92c9-7fdaddd8c111",
   "metadata": {},
   "outputs": [
    {
     "data": {
      "text/plain": [
       "(5, 10)"
      ]
     },
     "execution_count": 12,
     "metadata": {},
     "output_type": "execute_result"
    }
   ],
   "source": [
    "arr.shape"
   ]
  },
  {
   "cell_type": "code",
   "execution_count": 13,
   "id": "d19f3f80-3d50-4ccf-b481-15225c069267",
   "metadata": {},
   "outputs": [
    {
     "data": {
      "text/plain": [
       "array([[10, 11, 12, 13, 14, 15, 16, 17, 18, 19],\n",
       "       [20, 21, 22, 23, 24, 25, 26, 27, 28, 29],\n",
       "       [30, 31, 32, 33, 34, 35, 36, 37, 38, 39],\n",
       "       [40, 41, 42, 43, 44, 45, 46, 47, 48, 49]])"
      ]
     },
     "execution_count": 13,
     "metadata": {},
     "output_type": "execute_result"
    }
   ],
   "source": [
    "arr[1:][:]"
   ]
  },
  {
   "cell_type": "code",
   "execution_count": 25,
   "id": "c778b3d3-6b77-4193-9ddb-fdd0924202cd",
   "metadata": {},
   "outputs": [],
   "source": [
    "arr2 = arr[:3].copy()"
   ]
  },
  {
   "cell_type": "code",
   "execution_count": 29,
   "id": "63fdaca8-c750-47c8-8cc7-9f02b8c7e292",
   "metadata": {},
   "outputs": [
    {
     "data": {
      "text/plain": [
       "array([[100, 100, 100, 100, 100, 100, 100, 100, 100, 100],\n",
       "       [100, 100, 100, 100, 100, 100, 100, 100, 100, 100],\n",
       "       [100, 100, 100, 100, 100, 100, 100, 100, 100, 100],\n",
       "       [ 30,  31,  32,  33,  34,  35,  36,  37,  38,  39],\n",
       "       [ 40,  41,  42,  43,  44,  45,  46,  47,  48,  49]])"
      ]
     },
     "execution_count": 29,
     "metadata": {},
     "output_type": "execute_result"
    }
   ],
   "source": [
    "arr"
   ]
  },
  {
   "cell_type": "code",
   "execution_count": 27,
   "id": "0fc0c20f-2780-41b4-a980-c6c0d9f1fe82",
   "metadata": {},
   "outputs": [],
   "source": [
    "arr2[:] = 10"
   ]
  },
  {
   "cell_type": "code",
   "execution_count": 30,
   "id": "2488bd5f-1736-4076-863f-78201a0c99b3",
   "metadata": {},
   "outputs": [
    {
     "data": {
      "text/plain": [
       "array([[100, 100, 100, 100, 100],\n",
       "       [100, 100, 100, 100, 100],\n",
       "       [ 35,  36,  37,  38,  39]])"
      ]
     },
     "execution_count": 30,
     "metadata": {},
     "output_type": "execute_result"
    }
   ],
   "source": [
    "arr[1:4,5:]"
   ]
  },
  {
   "cell_type": "code",
   "execution_count": 33,
   "id": "cb752e48-1e4d-4ab7-88b2-0d9b76dad3ac",
   "metadata": {},
   "outputs": [],
   "source": [
    "bol = arr > 50"
   ]
  },
  {
   "cell_type": "code",
   "execution_count": 34,
   "id": "fb96f747-bf13-4679-9ccc-5faabfd496a1",
   "metadata": {},
   "outputs": [
    {
     "data": {
      "text/plain": [
       "array([[ True,  True,  True,  True,  True,  True,  True,  True,  True,\n",
       "         True],\n",
       "       [ True,  True,  True,  True,  True,  True,  True,  True,  True,\n",
       "         True],\n",
       "       [ True,  True,  True,  True,  True,  True,  True,  True,  True,\n",
       "         True],\n",
       "       [False, False, False, False, False, False, False, False, False,\n",
       "        False],\n",
       "       [False, False, False, False, False, False, False, False, False,\n",
       "        False]])"
      ]
     },
     "execution_count": 34,
     "metadata": {},
     "output_type": "execute_result"
    }
   ],
   "source": [
    "bol"
   ]
  },
  {
   "cell_type": "code",
   "execution_count": 37,
   "id": "2af9942b-48b4-4f77-8a41-65cd35a64883",
   "metadata": {},
   "outputs": [
    {
     "data": {
      "text/plain": [
       "array([100, 100, 100, 100, 100, 100, 100, 100, 100, 100, 100, 100, 100,\n",
       "       100, 100, 100, 100, 100, 100, 100, 100, 100, 100, 100, 100, 100,\n",
       "       100, 100, 100, 100])"
      ]
     },
     "execution_count": 37,
     "metadata": {},
     "output_type": "execute_result"
    }
   ],
   "source": [
    "arr[bol]"
   ]
  }
 ],
 "metadata": {
  "kernelspec": {
   "display_name": "Python 3 (ipykernel)",
   "language": "python",
   "name": "python3"
  },
  "language_info": {
   "codemirror_mode": {
    "name": "ipython",
    "version": 3
   },
   "file_extension": ".py",
   "mimetype": "text/x-python",
   "name": "python",
   "nbconvert_exporter": "python",
   "pygments_lexer": "ipython3",
   "version": "3.12.7"
  }
 },
 "nbformat": 4,
 "nbformat_minor": 5
}
