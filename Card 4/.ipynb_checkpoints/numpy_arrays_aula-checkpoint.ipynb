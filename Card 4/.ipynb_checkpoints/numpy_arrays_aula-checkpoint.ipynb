{
 "cells": [
  {
   "cell_type": "code",
   "execution_count": 1,
   "id": "e5858dbd-7496-41be-892f-2deab67aa878",
   "metadata": {},
   "outputs": [],
   "source": [
    "import numpy as np"
   ]
  },
  {
   "cell_type": "code",
   "execution_count": 2,
   "id": "625d8a5f-4de0-4e84-bb65-6d56b14c6d2b",
   "metadata": {},
   "outputs": [],
   "source": [
    "minha_lista = [1, 2, 3]"
   ]
  },
  {
   "cell_type": "code",
   "execution_count": 3,
   "id": "d026b1ac-acc2-4089-80a2-3c808d9d7b5d",
   "metadata": {},
   "outputs": [
    {
     "data": {
      "text/plain": [
       "[1, 2, 3]"
      ]
     },
     "execution_count": 3,
     "metadata": {},
     "output_type": "execute_result"
    }
   ],
   "source": [
    "minha_lista"
   ]
  },
  {
   "cell_type": "code",
   "execution_count": 4,
   "id": "e0c15af4-f236-4b38-bec4-f8ba389ce355",
   "metadata": {},
   "outputs": [
    {
     "data": {
      "text/plain": [
       "array([1, 2, 3])"
      ]
     },
     "execution_count": 4,
     "metadata": {},
     "output_type": "execute_result"
    }
   ],
   "source": [
    "np.array(minha_lista)"
   ]
  },
  {
   "cell_type": "code",
   "execution_count": 5,
   "id": "8027b412-86cb-4228-a904-d66f6e154002",
   "metadata": {},
   "outputs": [],
   "source": [
    "minha_matriz = [[1, 2, 3], [4, 5, 6], [7, 8, 9]]"
   ]
  },
  {
   "cell_type": "code",
   "execution_count": 6,
   "id": "733514d3-1e68-4e29-9f76-3e280c6bc7dc",
   "metadata": {},
   "outputs": [
    {
     "data": {
      "text/plain": [
       "array([[1, 2, 3],\n",
       "       [4, 5, 6],\n",
       "       [7, 8, 9]])"
      ]
     },
     "execution_count": 6,
     "metadata": {},
     "output_type": "execute_result"
    }
   ],
   "source": [
    "np.array(minha_matriz)"
   ]
  },
  {
   "cell_type": "code",
   "execution_count": 7,
   "id": "a452b2db-b963-44e5-86a8-4e30f9da4780",
   "metadata": {},
   "outputs": [
    {
     "data": {
      "text/plain": [
       "array([0, 1, 2, 3, 4, 5, 6, 7, 8, 9])"
      ]
     },
     "execution_count": 7,
     "metadata": {},
     "output_type": "execute_result"
    }
   ],
   "source": [
    "np.arange(0, 10)"
   ]
  },
  {
   "cell_type": "code",
   "execution_count": 8,
   "id": "fa38fe75-bc5c-4659-8b00-6f206f6c1f2a",
   "metadata": {},
   "outputs": [
    {
     "data": {
      "text/plain": [
       "array([0, 2, 4, 6, 8])"
      ]
     },
     "execution_count": 8,
     "metadata": {},
     "output_type": "execute_result"
    }
   ],
   "source": [
    "np.arange(0, 10, 2)"
   ]
  },
  {
   "cell_type": "code",
   "execution_count": 9,
   "id": "15816de9-7519-4c27-ac02-3d436320d090",
   "metadata": {},
   "outputs": [
    {
     "data": {
      "text/plain": [
       "array([0., 0., 0.])"
      ]
     },
     "execution_count": 9,
     "metadata": {},
     "output_type": "execute_result"
    }
   ],
   "source": [
    "np.zeros(3)"
   ]
  },
  {
   "cell_type": "code",
   "execution_count": 12,
   "id": "368e4d42-d7a3-44d3-8657-947fe997fb72",
   "metadata": {},
   "outputs": [],
   "source": [
    "arr = np.zeros(3)"
   ]
  },
  {
   "cell_type": "code",
   "execution_count": 13,
   "id": "9dea0534-5451-4f79-993e-484bc54e0009",
   "metadata": {},
   "outputs": [
    {
     "data": {
      "text/plain": [
       "array([0., 0., 0.])"
      ]
     },
     "execution_count": 13,
     "metadata": {},
     "output_type": "execute_result"
    }
   ],
   "source": [
    "arr"
   ]
  },
  {
   "cell_type": "code",
   "execution_count": 14,
   "id": "e45d8dbb-a420-4c83-8c36-17959ac45c0b",
   "metadata": {},
   "outputs": [],
   "source": [
    "arr = np.zeros((5, 5))"
   ]
  },
  {
   "cell_type": "code",
   "execution_count": 15,
   "id": "e57dca26-eb5f-4fc7-973f-718dbdf6e67f",
   "metadata": {},
   "outputs": [
    {
     "data": {
      "text/plain": [
       "array([[0., 0., 0., 0., 0.],\n",
       "       [0., 0., 0., 0., 0.],\n",
       "       [0., 0., 0., 0., 0.],\n",
       "       [0., 0., 0., 0., 0.],\n",
       "       [0., 0., 0., 0., 0.]])"
      ]
     },
     "execution_count": 15,
     "metadata": {},
     "output_type": "execute_result"
    }
   ],
   "source": [
    "arr"
   ]
  },
  {
   "cell_type": "code",
   "execution_count": 16,
   "id": "00cc1e15-fdf5-410e-a5ad-3880642e1be8",
   "metadata": {},
   "outputs": [
    {
     "data": {
      "text/plain": [
       "array([[1., 1., 1.],\n",
       "       [1., 1., 1.],\n",
       "       [1., 1., 1.]])"
      ]
     },
     "execution_count": 16,
     "metadata": {},
     "output_type": "execute_result"
    }
   ],
   "source": [
    "np.ones((3, 3))"
   ]
  },
  {
   "cell_type": "code",
   "execution_count": 17,
   "id": "63535c87-1ef8-42c0-92cc-9b728d7d4cb1",
   "metadata": {},
   "outputs": [
    {
     "data": {
      "text/plain": [
       "array([[1., 0., 0., 0.],\n",
       "       [0., 1., 0., 0.],\n",
       "       [0., 0., 1., 0.],\n",
       "       [0., 0., 0., 1.]])"
      ]
     },
     "execution_count": 17,
     "metadata": {},
     "output_type": "execute_result"
    }
   ],
   "source": [
    "np.eye(4)"
   ]
  },
  {
   "cell_type": "code",
   "execution_count": 18,
   "id": "1a22a8c3-3637-430d-afdf-bad896b56ac3",
   "metadata": {},
   "outputs": [
    {
     "data": {
      "text/plain": [
       "array([ 0., 10.])"
      ]
     },
     "execution_count": 18,
     "metadata": {},
     "output_type": "execute_result"
    }
   ],
   "source": [
    "np.linspace(0, 10, 2)"
   ]
  },
  {
   "cell_type": "code",
   "execution_count": 19,
   "id": "52999d0d-31f2-4e51-ab85-2d35240774a9",
   "metadata": {},
   "outputs": [
    {
     "data": {
      "text/plain": [
       "array([ 0.,  5., 10.])"
      ]
     },
     "execution_count": 19,
     "metadata": {},
     "output_type": "execute_result"
    }
   ],
   "source": [
    "np.linspace(0, 10, 3)"
   ]
  },
  {
   "cell_type": "code",
   "execution_count": 20,
   "id": "21c2677b-fa9b-41cb-a75b-aa046b5a7dd3",
   "metadata": {},
   "outputs": [
    {
     "data": {
      "text/plain": [
       "array([0.11947758, 0.88330746, 0.50437345, 0.90435227, 0.26087497])"
      ]
     },
     "execution_count": 20,
     "metadata": {},
     "output_type": "execute_result"
    }
   ],
   "source": [
    "np.random.rand(5)"
   ]
  },
  {
   "cell_type": "code",
   "execution_count": 21,
   "id": "ad4cc5be-8e5b-481a-a72d-27997396774d",
   "metadata": {},
   "outputs": [
    {
     "data": {
      "text/plain": [
       "array([14.91143069, 41.15588259, 91.18244118, 50.233325  , 99.48085209])"
      ]
     },
     "execution_count": 21,
     "metadata": {},
     "output_type": "execute_result"
    }
   ],
   "source": [
    "np.random.rand(5) * 100"
   ]
  },
  {
   "cell_type": "code",
   "execution_count": 23,
   "id": "eeccaba2-a0d4-476c-af0d-48f32bea5d10",
   "metadata": {},
   "outputs": [
    {
     "data": {
      "text/plain": [
       "array([[0.20626069, 0.48887259, 0.22714496, 0.49612293],\n",
       "       [0.78939894, 0.48721716, 0.92978266, 0.98452516],\n",
       "       [0.23702134, 0.80938425, 0.55745352, 0.75461634],\n",
       "       [0.03436218, 0.8258745 , 0.32519495, 0.47122017],\n",
       "       [0.89742435, 0.88286589, 0.53096422, 0.63849525]])"
      ]
     },
     "execution_count": 23,
     "metadata": {},
     "output_type": "execute_result"
    }
   ],
   "source": [
    "np.random.rand(5, 4)"
   ]
  },
  {
   "cell_type": "code",
   "execution_count": 24,
   "id": "3b09489a-3344-46d9-82d9-5e4551698ae2",
   "metadata": {},
   "outputs": [
    {
     "data": {
      "text/plain": [
       "array([[[0.01365433, 0.40186014, 0.4262757 ],\n",
       "        [0.42955108, 0.52189119, 0.70164355],\n",
       "        [0.94127442, 0.23730472, 0.52997939],\n",
       "        [0.88342625, 0.52061324, 0.92000638]],\n",
       "\n",
       "       [[0.06034465, 0.02974395, 0.57809193],\n",
       "        [0.47777265, 0.35709298, 0.71761465],\n",
       "        [0.9339401 , 0.5010381 , 0.73247444],\n",
       "        [0.00547278, 0.43236808, 0.10210449]],\n",
       "\n",
       "       [[0.90804276, 0.60326561, 0.42013423],\n",
       "        [0.43804427, 0.15916591, 0.09532563],\n",
       "        [0.86084325, 0.56728527, 0.46310105],\n",
       "        [0.99324554, 0.49199354, 0.35005074]],\n",
       "\n",
       "       [[0.11142812, 0.26746583, 0.56379937],\n",
       "        [0.16099823, 0.16415316, 0.63837194],\n",
       "        [0.20425953, 0.49834247, 0.93640481],\n",
       "        [0.61594767, 0.90356973, 0.38688797]],\n",
       "\n",
       "       [[0.51327553, 0.13648082, 0.49646682],\n",
       "        [0.6779466 , 0.49165113, 0.03899598],\n",
       "        [0.16024525, 0.50165636, 0.45668068],\n",
       "        [0.88010925, 0.33145364, 0.26101196]]])"
      ]
     },
     "execution_count": 24,
     "metadata": {},
     "output_type": "execute_result"
    }
   ],
   "source": [
    "np.random.rand(5, 4, 3)"
   ]
  },
  {
   "cell_type": "code",
   "execution_count": 25,
   "id": "e9c9ea16-11ff-44c7-b05d-dd9db8210dc6",
   "metadata": {},
   "outputs": [
    {
     "data": {
      "text/plain": [
       "array([-0.10759774,  0.10547094, -0.23548584,  0.90616099])"
      ]
     },
     "execution_count": 25,
     "metadata": {},
     "output_type": "execute_result"
    }
   ],
   "source": [
    "np.random.randn(4)"
   ]
  },
  {
   "cell_type": "code",
   "execution_count": 26,
   "id": "8ac64c23-8eeb-421f-8082-18720f44de22",
   "metadata": {},
   "outputs": [
    {
     "data": {
      "text/plain": [
       "array([38, 60, 41,  6,  9,  1, 40, 61, 81, 30])"
      ]
     },
     "execution_count": 26,
     "metadata": {},
     "output_type": "execute_result"
    }
   ],
   "source": [
    "np.random.randint(0, 100, 10)"
   ]
  },
  {
   "cell_type": "code",
   "execution_count": 27,
   "id": "d478164e-ed52-4912-826a-9c6af404fdc7",
   "metadata": {},
   "outputs": [
    {
     "data": {
      "text/plain": [
       "array([26., 51., 64., 35., 57.])"
      ]
     },
     "execution_count": 27,
     "metadata": {},
     "output_type": "execute_result"
    }
   ],
   "source": [
    "np.round(np.random.rand(5) * 100, 0)"
   ]
  },
  {
   "cell_type": "code",
   "execution_count": 28,
   "id": "e1928cc5-c1f0-4ecc-8816-07873e1f1bee",
   "metadata": {},
   "outputs": [],
   "source": [
    "arr = np.random.rand(25)"
   ]
  },
  {
   "cell_type": "code",
   "execution_count": 29,
   "id": "690b508f-f37d-49ed-a26b-0f1305267914",
   "metadata": {},
   "outputs": [
    {
     "data": {
      "text/plain": [
       "array([0.66520666, 0.72795259, 0.53024284, 0.16236287, 0.24080347,\n",
       "       0.75815843, 0.61042617, 0.13062485, 0.7393952 , 0.862036  ,\n",
       "       0.10680684, 0.80673925, 0.86124573, 0.79407098, 0.07872449,\n",
       "       0.65359978, 0.33427159, 0.97078204, 0.73017421, 0.23573686,\n",
       "       0.33599316, 0.12503019, 0.29732341, 0.54450123, 0.6572303 ])"
      ]
     },
     "execution_count": 29,
     "metadata": {},
     "output_type": "execute_result"
    }
   ],
   "source": [
    "arr"
   ]
  },
  {
   "cell_type": "code",
   "execution_count": 30,
   "id": "231ec3ca-02ac-466e-a37b-4afe72d02618",
   "metadata": {},
   "outputs": [
    {
     "data": {
      "text/plain": [
       "array([[0.66520666, 0.72795259, 0.53024284, 0.16236287, 0.24080347],\n",
       "       [0.75815843, 0.61042617, 0.13062485, 0.7393952 , 0.862036  ],\n",
       "       [0.10680684, 0.80673925, 0.86124573, 0.79407098, 0.07872449],\n",
       "       [0.65359978, 0.33427159, 0.97078204, 0.73017421, 0.23573686],\n",
       "       [0.33599316, 0.12503019, 0.29732341, 0.54450123, 0.6572303 ]])"
      ]
     },
     "execution_count": 30,
     "metadata": {},
     "output_type": "execute_result"
    }
   ],
   "source": [
    "arr.reshape((5,5))"
   ]
  },
  {
   "cell_type": "code",
   "execution_count": 31,
   "id": "c4fb9de3-7e04-48e4-96f4-c9e16c199a01",
   "metadata": {},
   "outputs": [
    {
     "data": {
      "text/plain": [
       "(25,)"
      ]
     },
     "execution_count": 31,
     "metadata": {},
     "output_type": "execute_result"
    }
   ],
   "source": [
    "arr.shape"
   ]
  },
  {
   "cell_type": "code",
   "execution_count": 32,
   "id": "4832c6b5-72bc-4984-b13d-ec86ad16cd7e",
   "metadata": {},
   "outputs": [
    {
     "data": {
      "text/plain": [
       "0.9707820411470995"
      ]
     },
     "execution_count": 32,
     "metadata": {},
     "output_type": "execute_result"
    }
   ],
   "source": [
    "arr.max()"
   ]
  },
  {
   "cell_type": "code",
   "execution_count": 33,
   "id": "cf5fbcc2-e5a0-4943-8f7c-d1ef43ec9956",
   "metadata": {},
   "outputs": [
    {
     "data": {
      "text/plain": [
       "0.07872449334385578"
      ]
     },
     "execution_count": 33,
     "metadata": {},
     "output_type": "execute_result"
    }
   ],
   "source": [
    "arr.min()"
   ]
  },
  {
   "cell_type": "code",
   "execution_count": 35,
   "id": "d9f4089e-8252-4d9e-be71-582166d5f998",
   "metadata": {},
   "outputs": [
    {
     "data": {
      "text/plain": [
       "17"
      ]
     },
     "execution_count": 35,
     "metadata": {},
     "output_type": "execute_result"
    }
   ],
   "source": [
    "arr.argmax()"
   ]
  },
  {
   "cell_type": "code",
   "execution_count": 36,
   "id": "bc4f1100-03d4-4e13-96ca-6608ef9dffa0",
   "metadata": {},
   "outputs": [
    {
     "data": {
      "text/plain": [
       "14"
      ]
     },
     "execution_count": 36,
     "metadata": {},
     "output_type": "execute_result"
    }
   ],
   "source": [
    "arr.argmin()"
   ]
  },
  {
   "cell_type": "code",
   "execution_count": null,
   "id": "8a270a7e-5308-4da1-bb08-f7abcb45a439",
   "metadata": {},
   "outputs": [],
   "source": []
  }
 ],
 "metadata": {
  "kernelspec": {
   "display_name": "Python 3 (ipykernel)",
   "language": "python",
   "name": "python3"
  },
  "language_info": {
   "codemirror_mode": {
    "name": "ipython",
    "version": 3
   },
   "file_extension": ".py",
   "mimetype": "text/x-python",
   "name": "python",
   "nbconvert_exporter": "python",
   "pygments_lexer": "ipython3",
   "version": "3.12.7"
  }
 },
 "nbformat": 4,
 "nbformat_minor": 5
}
